{
 "cells": [
  {
   "cell_type": "markdown",
   "metadata": {},
   "source": [
    "# House Price Prediction Using Supervised ML Regression Models\n",
    "\n",
    "Course: Supervised Learning: Regression by IBM/Coursera <br>\n",
    "Author: [Kanishk Kumar](https://www.linkedin.com/in/kanishkkumar11/)\n",
    "<hr>\n",
    "\n",
    "#### Contents\n",
    "* [Introduction](#intro)\n",
    "  * [Background](#back)\n",
    "  * [Objective](#obj)\n",
    "* [Data](#data)\n",
    "  * [Data Collection](#col)\n",
    "  * [Data Description](#descr)\n",
    "  * [Data Wrangling](#wrang)\n",
    "* [Exploratory Data Analysis](#eda)\n",
    "  * [Target Variable Distribution](#tvd)\n",
    "  * [Correlation Between Variables](#cbv)\n",
    "  * [Relationship Between the Target Variable and Other Variables](#rbtv)\n",
    "  * [Relationship in-between Predictor Variables](#rbpv)\n",
    "* [Feature Engineering](#fe)\n",
    "  * [Creating New Derived Features](#cndf)\n",
    "  * [Dealing with Ordinal Variables](#dov)\n",
    "  * [One-Hot Encoding For Categorical Features](#ohe)\n",
    "* [Prediction Type and Modeling Techniques](#ptmt)\n",
    "* [Model Building and Evaluation](#mbe)\n",
    "  * [Feature Scaling](#fs)\n",
    "  * [Splitting the Dataset](#std)\n",
    "  * [Modeling Approach](#ma)\n",
    "  * [Performance Metric](#pm)\n",
    "  * [Modeling](#m)\n",
    "   * [Ridge](#rr)\n",
    "   * [Lasso](#lr)\n",
    "   * [Elastic Net](#en)\n",
    "  * [Analysis and Comparison](#ac)\n",
    "  * [Performance Interpretation](#pi)\n",
    "  * [Feature Importances](#fi)\n",
    "* [Key Findings](#kf)\n",
    "* [Conclusion](#c)"
   ]
  },
  {
   "cell_type": "markdown",
   "metadata": {},
   "source": [
    "# Introduction <a name=\"intro\"></a>\n",
    "<hr>"
   ]
  },
  {
   "cell_type": "markdown",
   "metadata": {},
   "source": [
    "## Background <a name=\"back\"></a>\n",
    "Real estate is a lucrative business. Thousands of houses are sold everyday. There are some questions every buyer asks himself like: What is the actual price that this house deserves? Am I paying a fair price? In this project, a machine learning model is proposed to predict a house price based on data related to the house (its size, the year it was built in, etc.). During the development and evaluation of our model, I will show the code used for each step followed by its output. In this study, Python programming language with a number of Python packages will be used."
   ]
  },
  {
   "cell_type": "markdown",
   "metadata": {},
   "source": [
    "## Objective <a name=\"obj\"></a>\n",
    "This project will be focused on __prediction.__ The main objectives of this project are as follows:\n",
    "\n",
    "- To apply data preprocessing and preparation techniques in order to obtain clean data.\n",
    "- To build at least three supervised machine learning regression models that are able to predict house price based on house features.\n",
    "- To analyze and compare model's performance in order to choose the best model."
   ]
  },
  {
   "cell_type": "markdown",
   "metadata": {},
   "source": [
    "# Data <a name=\"data\"></a>\n",
    "<hr>"
   ]
  },
  {
   "cell_type": "markdown",
   "metadata": {},
   "source": [
    "## Data Collection <a name=\"col\"></a>\n",
    "In this project, I will use a housing dataset presented by De Cock (2011). This dataset describes the sales of residential units in Ames, Iowa starting from 2006 until 2010. The dataset contains a large number of variables that are involved in determining a house price. I obtained a .csv copy of the data from [here.](https://www.kaggle.com/prevek18/ames-housing-dataset)"
   ]
  },
  {
   "cell_type": "markdown",
   "metadata": {},
   "source": [
    "## Data Description <a name=\"descr\"></a>\n",
    "\n",
    "The dataset contains `2930` records (rows) and `82` features (columns).\n",
    "\n",
    "Here, I will provide a brief description of dataset features. Since the number of features is large (82), I will attach the original data description file to the project report for more information about the dataset. Now, I will mention the feature name with a short description of its meaning.\n",
    "\n",
    "|Feature|Description|\n",
    "|-------|-----------|\n",
    "|MSSubClass| The type of the house involved in the sale|\n",
    "|MSZoning| The general zoning classification of the sale|\n",
    "|LotFrontage| Linear feet of street connected to the house|\n",
    "|LotArea| Lot size in square feet|\n",
    "|Street| Type of road access to the house|\n",
    "|Alley| Type of alley access to the house|\n",
    "|LotShape| General shape of the house|\n",
    "|LandContour| House flatness|\n",
    "|Utilities| Type of utilities available|\n",
    "|LotConfig| Lot configuration|\n",
    "|LandSlope| House Slope|\n",
    "|Neighborhood| Locations within Ames city limits|\n",
    "|Condition1| Proximity to various conditions|\n",
    "|Condition2| Proximity to various conditions (if more than one is present)|\n",
    "|BldgType| House type|\n",
    "|HouseStyle| House style|\n",
    "|OverallQual| Overall quality of material and finish of the house|\n",
    "|OverallCond| Overall condition of the house|\n",
    "|YearBuilt| Construction year|\n",
    "|YearRemodAdd| Remodel year (if no remodeling nor addition, same as YearBuilt)|\n",
    "|RoofStyle| Roof type|\n",
    "|RoofMatl| Roof material|\n",
    "|Exterior1st| Exterior covering on house|\n",
    "|Exterior2nd| Exterior covering on house (if more than one material)|\n",
    "|MasVnrType| Type of masonry veneer|\n",
    "|MasVnrArea| Masonry veneer area in square feet|\n",
    "|ExterQual| Quality of the material on the exterior|\n",
    "|ExterCond| Condition of the material on the exterior|\n",
    "|Foundation| Foundation type|\n",
    "|BsmtQual| Basement height|\n",
    "|BsmtCond| Basement Condition|\n",
    "|BsmtExposure| Refers to walkout or garden level walls|\n",
    "|BsmtFinType1| Rating of basement finished area|\n",
    "|BsmtFinSF1| Type 1 finished square feet|\n",
    "|BsmtFinType2| Rating of basement finished area (if multiple types)|\n",
    "|BsmtFinSF2| Type 2 finished square feet|\n",
    "|BsmtUnfSF| Unfinished basement area in square feet|\n",
    "|TotalBsmtSF| Total basement area in square feet|\n",
    "|Heating| Heating type|\n",
    "|HeatingQC| Heating quality and condition|\n",
    "|CentralAir| Central air conditioning|\n",
    "|Electrical| Electrical system type|\n",
    "|1stFlrSF| First floor area in square feet|\n",
    "|2ndFlrSF| Second floor area in square feet|\n",
    "|LowQualFinSF| Low quality finished square feet in all floors|\n",
    "|GrLivArea| Above-ground living area in square feet|\n",
    "|BsmtFullBath| Basement full bathrooms|\n",
    "|BsmtHalfBath| Basement half bathrooms|\n",
    "|FullBath| Full bathrooms above ground|\n",
    "|HalfBath| Half bathrooms above ground|\n",
    "|Bedroom| Bedrooms above ground|\n",
    "|Kitchen| Kitchens above ground|\n",
    "|KitchenQual| Kitchen quality|\n",
    "|TotRmsAbvGrd| Total rooms above ground (excluding bathrooms)|\n",
    "|Functional| Home functionality|\n",
    "|Fireplaces| Number of fireplaces|\n",
    "|FireplaceQu| Fireplace quality|\n",
    "|GarageType| Garage location|\n",
    "|GarageYrBlt| Year garage was built in|\n",
    "|GarageFinish| Interior finish of the garage|\n",
    "|GarageCars| Size of garage (in car capacity)|\n",
    "|GarageArea| Garage size in square feet|\n",
    "|GarageQual| Garage quality|\n",
    "|GarageCond| Garage condition|\n",
    "|PavedDrive| How driveway is paved|\n",
    "|WoodDeckSF| Wood deck area in square feet|\n",
    "|OpenPorchSF| Open porch area in square feet|\n",
    "|EnclosedPorch| Enclosed porch area in square feet|\n",
    "|3SsnPorch| Three season porch area in square feet|\n",
    "|ScreenPorch| Screen porch area in square feet|\n",
    "|PoolArea| Pool area in square feet|\n",
    "|PoolQC| Pool quality|\n",
    "|Fence| Fence quality|\n",
    "|MiscFeature| Miscellaneous feature|\n",
    "|MiscVal| Value of miscellaneous feature|\n",
    "|MoSold| Sale month|\n",
    "|YrSold| Sale year|\n",
    "|SaleType| Sale type|\n",
    "|SaleCondition| Sale condition|"
   ]
  },
  {
   "cell_type": "markdown",
   "metadata": {},
   "source": [
    "## Data Wrangling <a name=\"wrang\"></a>"
   ]
  },
  {
   "cell_type": "markdown",
   "metadata": {},
   "source": [
    "Let's import all the necessary libraries before we proceed."
   ]
  },
  {
   "cell_type": "code",
   "execution_count": 1,
   "metadata": {},
   "outputs": [],
   "source": [
    "#Analysis\n",
    "import pandas as pd\n",
    "\n",
    "#Visualization\n",
    "from matplotlib import pyplot as plt\n",
    "import seaborn as sns\n",
    "\n",
    "#Scientific\n",
    "import numpy as np\n",
    "from sklearn.preprocessing import StandardScaler\n",
    "from sklearn.model_selection import train_test_split\n",
    "from sklearn.model_selection import GridSearchCV\n",
    "from sklearn.linear_model import Ridge\n",
    "from sklearn.linear_model import Lasso\n",
    "from sklearn.linear_model import ElasticNet\n",
    "from sklearn.metrics import mean_absolute_error\n",
    "from sklearn.metrics import r2_score\n",
    "\n",
    "#Ignoring unnecessary warnings.\n",
    "import warnings\n",
    "warnings.filterwarnings('ignore')\n",
    "\n",
    "#Magic Functions\n",
    "%matplotlib inline"
   ]
  },
  {
   "cell_type": "markdown",
   "metadata": {},
   "source": [
    "The first step is reading the dataset from the .csv file I've downloaded. I'll use the read_csv() function from Pandas Python package:"
   ]
  },
  {
   "cell_type": "code",
   "execution_count": 2,
   "metadata": {},
   "outputs": [],
   "source": [
    "dataset = pd.read_csv(\"data/AmesHousing.csv\")"
   ]
  },
  {
   "cell_type": "markdown",
   "metadata": {},
   "source": [
    "Let's display the first few rows of the dataset:"
   ]
  },
  {
   "cell_type": "code",
   "execution_count": 3,
   "metadata": {},
   "outputs": [
    {
     "data": {
      "text/html": [
       "<div>\n",
       "<style scoped>\n",
       "    .dataframe tbody tr th:only-of-type {\n",
       "        vertical-align: middle;\n",
       "    }\n",
       "\n",
       "    .dataframe tbody tr th {\n",
       "        vertical-align: top;\n",
       "    }\n",
       "\n",
       "    .dataframe thead th {\n",
       "        text-align: right;\n",
       "    }\n",
       "</style>\n",
       "<table border=\"1\" class=\"dataframe\">\n",
       "  <thead>\n",
       "    <tr style=\"text-align: right;\">\n",
       "      <th></th>\n",
       "      <th>Order</th>\n",
       "      <th>PID</th>\n",
       "      <th>MS SubClass</th>\n",
       "      <th>MS Zoning</th>\n",
       "      <th>Lot Frontage</th>\n",
       "      <th>Lot Area</th>\n",
       "      <th>Street</th>\n",
       "      <th>Alley</th>\n",
       "      <th>Lot Shape</th>\n",
       "      <th>Land Contour</th>\n",
       "      <th>...</th>\n",
       "      <th>Pool Area</th>\n",
       "      <th>Pool QC</th>\n",
       "      <th>Fence</th>\n",
       "      <th>Misc Feature</th>\n",
       "      <th>Misc Val</th>\n",
       "      <th>Mo Sold</th>\n",
       "      <th>Yr Sold</th>\n",
       "      <th>Sale Type</th>\n",
       "      <th>Sale Condition</th>\n",
       "      <th>SalePrice</th>\n",
       "    </tr>\n",
       "  </thead>\n",
       "  <tbody>\n",
       "    <tr>\n",
       "      <th>0</th>\n",
       "      <td>1</td>\n",
       "      <td>526301100</td>\n",
       "      <td>20</td>\n",
       "      <td>RL</td>\n",
       "      <td>141.00</td>\n",
       "      <td>31770</td>\n",
       "      <td>Pave</td>\n",
       "      <td>NaN</td>\n",
       "      <td>IR1</td>\n",
       "      <td>Lvl</td>\n",
       "      <td>...</td>\n",
       "      <td>0</td>\n",
       "      <td>NaN</td>\n",
       "      <td>NaN</td>\n",
       "      <td>NaN</td>\n",
       "      <td>0</td>\n",
       "      <td>5</td>\n",
       "      <td>2010</td>\n",
       "      <td>WD</td>\n",
       "      <td>Normal</td>\n",
       "      <td>215000</td>\n",
       "    </tr>\n",
       "    <tr>\n",
       "      <th>1</th>\n",
       "      <td>2</td>\n",
       "      <td>526350040</td>\n",
       "      <td>20</td>\n",
       "      <td>RH</td>\n",
       "      <td>80.00</td>\n",
       "      <td>11622</td>\n",
       "      <td>Pave</td>\n",
       "      <td>NaN</td>\n",
       "      <td>Reg</td>\n",
       "      <td>Lvl</td>\n",
       "      <td>...</td>\n",
       "      <td>0</td>\n",
       "      <td>NaN</td>\n",
       "      <td>MnPrv</td>\n",
       "      <td>NaN</td>\n",
       "      <td>0</td>\n",
       "      <td>6</td>\n",
       "      <td>2010</td>\n",
       "      <td>WD</td>\n",
       "      <td>Normal</td>\n",
       "      <td>105000</td>\n",
       "    </tr>\n",
       "    <tr>\n",
       "      <th>2</th>\n",
       "      <td>3</td>\n",
       "      <td>526351010</td>\n",
       "      <td>20</td>\n",
       "      <td>RL</td>\n",
       "      <td>81.00</td>\n",
       "      <td>14267</td>\n",
       "      <td>Pave</td>\n",
       "      <td>NaN</td>\n",
       "      <td>IR1</td>\n",
       "      <td>Lvl</td>\n",
       "      <td>...</td>\n",
       "      <td>0</td>\n",
       "      <td>NaN</td>\n",
       "      <td>NaN</td>\n",
       "      <td>Gar2</td>\n",
       "      <td>12500</td>\n",
       "      <td>6</td>\n",
       "      <td>2010</td>\n",
       "      <td>WD</td>\n",
       "      <td>Normal</td>\n",
       "      <td>172000</td>\n",
       "    </tr>\n",
       "    <tr>\n",
       "      <th>3</th>\n",
       "      <td>4</td>\n",
       "      <td>526353030</td>\n",
       "      <td>20</td>\n",
       "      <td>RL</td>\n",
       "      <td>93.00</td>\n",
       "      <td>11160</td>\n",
       "      <td>Pave</td>\n",
       "      <td>NaN</td>\n",
       "      <td>Reg</td>\n",
       "      <td>Lvl</td>\n",
       "      <td>...</td>\n",
       "      <td>0</td>\n",
       "      <td>NaN</td>\n",
       "      <td>NaN</td>\n",
       "      <td>NaN</td>\n",
       "      <td>0</td>\n",
       "      <td>4</td>\n",
       "      <td>2010</td>\n",
       "      <td>WD</td>\n",
       "      <td>Normal</td>\n",
       "      <td>244000</td>\n",
       "    </tr>\n",
       "    <tr>\n",
       "      <th>4</th>\n",
       "      <td>5</td>\n",
       "      <td>527105010</td>\n",
       "      <td>60</td>\n",
       "      <td>RL</td>\n",
       "      <td>74.00</td>\n",
       "      <td>13830</td>\n",
       "      <td>Pave</td>\n",
       "      <td>NaN</td>\n",
       "      <td>IR1</td>\n",
       "      <td>Lvl</td>\n",
       "      <td>...</td>\n",
       "      <td>0</td>\n",
       "      <td>NaN</td>\n",
       "      <td>MnPrv</td>\n",
       "      <td>NaN</td>\n",
       "      <td>0</td>\n",
       "      <td>3</td>\n",
       "      <td>2010</td>\n",
       "      <td>WD</td>\n",
       "      <td>Normal</td>\n",
       "      <td>189900</td>\n",
       "    </tr>\n",
       "    <tr>\n",
       "      <th>...</th>\n",
       "      <td>...</td>\n",
       "      <td>...</td>\n",
       "      <td>...</td>\n",
       "      <td>...</td>\n",
       "      <td>...</td>\n",
       "      <td>...</td>\n",
       "      <td>...</td>\n",
       "      <td>...</td>\n",
       "      <td>...</td>\n",
       "      <td>...</td>\n",
       "      <td>...</td>\n",
       "      <td>...</td>\n",
       "      <td>...</td>\n",
       "      <td>...</td>\n",
       "      <td>...</td>\n",
       "      <td>...</td>\n",
       "      <td>...</td>\n",
       "      <td>...</td>\n",
       "      <td>...</td>\n",
       "      <td>...</td>\n",
       "      <td>...</td>\n",
       "    </tr>\n",
       "    <tr>\n",
       "      <th>2925</th>\n",
       "      <td>2926</td>\n",
       "      <td>923275080</td>\n",
       "      <td>80</td>\n",
       "      <td>RL</td>\n",
       "      <td>37.00</td>\n",
       "      <td>7937</td>\n",
       "      <td>Pave</td>\n",
       "      <td>NaN</td>\n",
       "      <td>IR1</td>\n",
       "      <td>Lvl</td>\n",
       "      <td>...</td>\n",
       "      <td>0</td>\n",
       "      <td>NaN</td>\n",
       "      <td>GdPrv</td>\n",
       "      <td>NaN</td>\n",
       "      <td>0</td>\n",
       "      <td>3</td>\n",
       "      <td>2006</td>\n",
       "      <td>WD</td>\n",
       "      <td>Normal</td>\n",
       "      <td>142500</td>\n",
       "    </tr>\n",
       "    <tr>\n",
       "      <th>2926</th>\n",
       "      <td>2927</td>\n",
       "      <td>923276100</td>\n",
       "      <td>20</td>\n",
       "      <td>RL</td>\n",
       "      <td>nan</td>\n",
       "      <td>8885</td>\n",
       "      <td>Pave</td>\n",
       "      <td>NaN</td>\n",
       "      <td>IR1</td>\n",
       "      <td>Low</td>\n",
       "      <td>...</td>\n",
       "      <td>0</td>\n",
       "      <td>NaN</td>\n",
       "      <td>MnPrv</td>\n",
       "      <td>NaN</td>\n",
       "      <td>0</td>\n",
       "      <td>6</td>\n",
       "      <td>2006</td>\n",
       "      <td>WD</td>\n",
       "      <td>Normal</td>\n",
       "      <td>131000</td>\n",
       "    </tr>\n",
       "    <tr>\n",
       "      <th>2927</th>\n",
       "      <td>2928</td>\n",
       "      <td>923400125</td>\n",
       "      <td>85</td>\n",
       "      <td>RL</td>\n",
       "      <td>62.00</td>\n",
       "      <td>10441</td>\n",
       "      <td>Pave</td>\n",
       "      <td>NaN</td>\n",
       "      <td>Reg</td>\n",
       "      <td>Lvl</td>\n",
       "      <td>...</td>\n",
       "      <td>0</td>\n",
       "      <td>NaN</td>\n",
       "      <td>MnPrv</td>\n",
       "      <td>Shed</td>\n",
       "      <td>700</td>\n",
       "      <td>7</td>\n",
       "      <td>2006</td>\n",
       "      <td>WD</td>\n",
       "      <td>Normal</td>\n",
       "      <td>132000</td>\n",
       "    </tr>\n",
       "    <tr>\n",
       "      <th>2928</th>\n",
       "      <td>2929</td>\n",
       "      <td>924100070</td>\n",
       "      <td>20</td>\n",
       "      <td>RL</td>\n",
       "      <td>77.00</td>\n",
       "      <td>10010</td>\n",
       "      <td>Pave</td>\n",
       "      <td>NaN</td>\n",
       "      <td>Reg</td>\n",
       "      <td>Lvl</td>\n",
       "      <td>...</td>\n",
       "      <td>0</td>\n",
       "      <td>NaN</td>\n",
       "      <td>NaN</td>\n",
       "      <td>NaN</td>\n",
       "      <td>0</td>\n",
       "      <td>4</td>\n",
       "      <td>2006</td>\n",
       "      <td>WD</td>\n",
       "      <td>Normal</td>\n",
       "      <td>170000</td>\n",
       "    </tr>\n",
       "    <tr>\n",
       "      <th>2929</th>\n",
       "      <td>2930</td>\n",
       "      <td>924151050</td>\n",
       "      <td>60</td>\n",
       "      <td>RL</td>\n",
       "      <td>74.00</td>\n",
       "      <td>9627</td>\n",
       "      <td>Pave</td>\n",
       "      <td>NaN</td>\n",
       "      <td>Reg</td>\n",
       "      <td>Lvl</td>\n",
       "      <td>...</td>\n",
       "      <td>0</td>\n",
       "      <td>NaN</td>\n",
       "      <td>NaN</td>\n",
       "      <td>NaN</td>\n",
       "      <td>0</td>\n",
       "      <td>11</td>\n",
       "      <td>2006</td>\n",
       "      <td>WD</td>\n",
       "      <td>Normal</td>\n",
       "      <td>188000</td>\n",
       "    </tr>\n",
       "  </tbody>\n",
       "</table>\n",
       "<p>2930 rows × 82 columns</p>\n",
       "</div>"
      ],
      "text/plain": [
       "      Order        PID  MS SubClass MS Zoning         Lot Frontage  Lot Area  \\\n",
       "0         1  526301100           20        RL               141.00     31770   \n",
       "1         2  526350040           20        RH                80.00     11622   \n",
       "2         3  526351010           20        RL                81.00     14267   \n",
       "3         4  526353030           20        RL                93.00     11160   \n",
       "4         5  527105010           60        RL                74.00     13830   \n",
       "...     ...        ...          ...       ...                  ...       ...   \n",
       "2925   2926  923275080           80        RL                37.00      7937   \n",
       "2926   2927  923276100           20        RL                  nan      8885   \n",
       "2927   2928  923400125           85        RL                62.00     10441   \n",
       "2928   2929  924100070           20        RL                77.00     10010   \n",
       "2929   2930  924151050           60        RL                74.00      9627   \n",
       "\n",
       "     Street Alley Lot Shape Land Contour  ... Pool Area Pool QC  Fence  \\\n",
       "0      Pave   NaN       IR1          Lvl  ...         0     NaN    NaN   \n",
       "1      Pave   NaN       Reg          Lvl  ...         0     NaN  MnPrv   \n",
       "2      Pave   NaN       IR1          Lvl  ...         0     NaN    NaN   \n",
       "3      Pave   NaN       Reg          Lvl  ...         0     NaN    NaN   \n",
       "4      Pave   NaN       IR1          Lvl  ...         0     NaN  MnPrv   \n",
       "...     ...   ...       ...          ...  ...       ...     ...    ...   \n",
       "2925   Pave   NaN       IR1          Lvl  ...         0     NaN  GdPrv   \n",
       "2926   Pave   NaN       IR1          Low  ...         0     NaN  MnPrv   \n",
       "2927   Pave   NaN       Reg          Lvl  ...         0     NaN  MnPrv   \n",
       "2928   Pave   NaN       Reg          Lvl  ...         0     NaN    NaN   \n",
       "2929   Pave   NaN       Reg          Lvl  ...         0     NaN    NaN   \n",
       "\n",
       "     Misc Feature Misc Val Mo Sold Yr Sold Sale Type  Sale Condition  \\\n",
       "0             NaN        0       5    2010       WD           Normal   \n",
       "1             NaN        0       6    2010       WD           Normal   \n",
       "2            Gar2    12500       6    2010       WD           Normal   \n",
       "3             NaN        0       4    2010       WD           Normal   \n",
       "4             NaN        0       3    2010       WD           Normal   \n",
       "...           ...      ...     ...     ...       ...             ...   \n",
       "2925          NaN        0       3    2006       WD           Normal   \n",
       "2926          NaN        0       6    2006       WD           Normal   \n",
       "2927         Shed      700       7    2006       WD           Normal   \n",
       "2928          NaN        0       4    2006       WD           Normal   \n",
       "2929          NaN        0      11    2006       WD           Normal   \n",
       "\n",
       "      SalePrice  \n",
       "0        215000  \n",
       "1        105000  \n",
       "2        172000  \n",
       "3        244000  \n",
       "4        189900  \n",
       "...         ...  \n",
       "2925     142500  \n",
       "2926     131000  \n",
       "2927     132000  \n",
       "2928     170000  \n",
       "2929     188000  \n",
       "\n",
       "[2930 rows x 82 columns]"
      ]
     },
     "execution_count": 3,
     "metadata": {},
     "output_type": "execute_result"
    }
   ],
   "source": [
    "# Configuring float numbers format\n",
    "pd.options.display.float_format = '{:20.2f}'.format\n",
    "dataset"
   ]
  },
  {
   "cell_type": "markdown",
   "metadata": {
    "_uuid": "8d5eb58b681521c1f097750f0240ad51764c7e56"
   },
   "source": [
    "Now, let's get statistical information about the numeric columns in our dataset. We want to know the mean, the standard deviation, the minimum, the maximum, and the 50th percentile (the median) for *each numeric column* in the dataset:"
   ]
  },
  {
   "cell_type": "code",
   "execution_count": 4,
   "metadata": {},
   "outputs": [
    {
     "data": {
      "text/html": [
       "<div>\n",
       "<style scoped>\n",
       "    .dataframe tbody tr th:only-of-type {\n",
       "        vertical-align: middle;\n",
       "    }\n",
       "\n",
       "    .dataframe tbody tr th {\n",
       "        vertical-align: top;\n",
       "    }\n",
       "\n",
       "    .dataframe thead th {\n",
       "        text-align: right;\n",
       "    }\n",
       "</style>\n",
       "<table border=\"1\" class=\"dataframe\">\n",
       "  <thead>\n",
       "    <tr style=\"text-align: right;\">\n",
       "      <th></th>\n",
       "      <th>mean</th>\n",
       "      <th>std</th>\n",
       "      <th>min</th>\n",
       "      <th>50%</th>\n",
       "      <th>max</th>\n",
       "    </tr>\n",
       "  </thead>\n",
       "  <tbody>\n",
       "    <tr>\n",
       "      <th>Order</th>\n",
       "      <td>1465.50</td>\n",
       "      <td>845.96</td>\n",
       "      <td>1.00</td>\n",
       "      <td>1465.50</td>\n",
       "      <td>2930.00</td>\n",
       "    </tr>\n",
       "    <tr>\n",
       "      <th>PID</th>\n",
       "      <td>714464496.99</td>\n",
       "      <td>188730844.65</td>\n",
       "      <td>526301100.00</td>\n",
       "      <td>535453620.00</td>\n",
       "      <td>1007100110.00</td>\n",
       "    </tr>\n",
       "    <tr>\n",
       "      <th>MS SubClass</th>\n",
       "      <td>57.39</td>\n",
       "      <td>42.64</td>\n",
       "      <td>20.00</td>\n",
       "      <td>50.00</td>\n",
       "      <td>190.00</td>\n",
       "    </tr>\n",
       "    <tr>\n",
       "      <th>Lot Frontage</th>\n",
       "      <td>69.22</td>\n",
       "      <td>23.37</td>\n",
       "      <td>21.00</td>\n",
       "      <td>68.00</td>\n",
       "      <td>313.00</td>\n",
       "    </tr>\n",
       "    <tr>\n",
       "      <th>Lot Area</th>\n",
       "      <td>10147.92</td>\n",
       "      <td>7880.02</td>\n",
       "      <td>1300.00</td>\n",
       "      <td>9436.50</td>\n",
       "      <td>215245.00</td>\n",
       "    </tr>\n",
       "    <tr>\n",
       "      <th>Overall Qual</th>\n",
       "      <td>6.09</td>\n",
       "      <td>1.41</td>\n",
       "      <td>1.00</td>\n",
       "      <td>6.00</td>\n",
       "      <td>10.00</td>\n",
       "    </tr>\n",
       "    <tr>\n",
       "      <th>Overall Cond</th>\n",
       "      <td>5.56</td>\n",
       "      <td>1.11</td>\n",
       "      <td>1.00</td>\n",
       "      <td>5.00</td>\n",
       "      <td>9.00</td>\n",
       "    </tr>\n",
       "    <tr>\n",
       "      <th>Year Built</th>\n",
       "      <td>1971.36</td>\n",
       "      <td>30.25</td>\n",
       "      <td>1872.00</td>\n",
       "      <td>1973.00</td>\n",
       "      <td>2010.00</td>\n",
       "    </tr>\n",
       "    <tr>\n",
       "      <th>Year Remod/Add</th>\n",
       "      <td>1984.27</td>\n",
       "      <td>20.86</td>\n",
       "      <td>1950.00</td>\n",
       "      <td>1993.00</td>\n",
       "      <td>2010.00</td>\n",
       "    </tr>\n",
       "    <tr>\n",
       "      <th>Mas Vnr Area</th>\n",
       "      <td>101.90</td>\n",
       "      <td>179.11</td>\n",
       "      <td>0.00</td>\n",
       "      <td>0.00</td>\n",
       "      <td>1600.00</td>\n",
       "    </tr>\n",
       "    <tr>\n",
       "      <th>BsmtFin SF 1</th>\n",
       "      <td>442.63</td>\n",
       "      <td>455.59</td>\n",
       "      <td>0.00</td>\n",
       "      <td>370.00</td>\n",
       "      <td>5644.00</td>\n",
       "    </tr>\n",
       "    <tr>\n",
       "      <th>BsmtFin SF 2</th>\n",
       "      <td>49.72</td>\n",
       "      <td>169.17</td>\n",
       "      <td>0.00</td>\n",
       "      <td>0.00</td>\n",
       "      <td>1526.00</td>\n",
       "    </tr>\n",
       "    <tr>\n",
       "      <th>Bsmt Unf SF</th>\n",
       "      <td>559.26</td>\n",
       "      <td>439.49</td>\n",
       "      <td>0.00</td>\n",
       "      <td>466.00</td>\n",
       "      <td>2336.00</td>\n",
       "    </tr>\n",
       "    <tr>\n",
       "      <th>Total Bsmt SF</th>\n",
       "      <td>1051.61</td>\n",
       "      <td>440.62</td>\n",
       "      <td>0.00</td>\n",
       "      <td>990.00</td>\n",
       "      <td>6110.00</td>\n",
       "    </tr>\n",
       "    <tr>\n",
       "      <th>1st Flr SF</th>\n",
       "      <td>1159.56</td>\n",
       "      <td>391.89</td>\n",
       "      <td>334.00</td>\n",
       "      <td>1084.00</td>\n",
       "      <td>5095.00</td>\n",
       "    </tr>\n",
       "    <tr>\n",
       "      <th>2nd Flr SF</th>\n",
       "      <td>335.46</td>\n",
       "      <td>428.40</td>\n",
       "      <td>0.00</td>\n",
       "      <td>0.00</td>\n",
       "      <td>2065.00</td>\n",
       "    </tr>\n",
       "    <tr>\n",
       "      <th>Low Qual Fin SF</th>\n",
       "      <td>4.68</td>\n",
       "      <td>46.31</td>\n",
       "      <td>0.00</td>\n",
       "      <td>0.00</td>\n",
       "      <td>1064.00</td>\n",
       "    </tr>\n",
       "    <tr>\n",
       "      <th>Gr Liv Area</th>\n",
       "      <td>1499.69</td>\n",
       "      <td>505.51</td>\n",
       "      <td>334.00</td>\n",
       "      <td>1442.00</td>\n",
       "      <td>5642.00</td>\n",
       "    </tr>\n",
       "    <tr>\n",
       "      <th>Bsmt Full Bath</th>\n",
       "      <td>0.43</td>\n",
       "      <td>0.52</td>\n",
       "      <td>0.00</td>\n",
       "      <td>0.00</td>\n",
       "      <td>3.00</td>\n",
       "    </tr>\n",
       "    <tr>\n",
       "      <th>Bsmt Half Bath</th>\n",
       "      <td>0.06</td>\n",
       "      <td>0.25</td>\n",
       "      <td>0.00</td>\n",
       "      <td>0.00</td>\n",
       "      <td>2.00</td>\n",
       "    </tr>\n",
       "    <tr>\n",
       "      <th>Full Bath</th>\n",
       "      <td>1.57</td>\n",
       "      <td>0.55</td>\n",
       "      <td>0.00</td>\n",
       "      <td>2.00</td>\n",
       "      <td>4.00</td>\n",
       "    </tr>\n",
       "    <tr>\n",
       "      <th>Half Bath</th>\n",
       "      <td>0.38</td>\n",
       "      <td>0.50</td>\n",
       "      <td>0.00</td>\n",
       "      <td>0.00</td>\n",
       "      <td>2.00</td>\n",
       "    </tr>\n",
       "    <tr>\n",
       "      <th>Bedroom AbvGr</th>\n",
       "      <td>2.85</td>\n",
       "      <td>0.83</td>\n",
       "      <td>0.00</td>\n",
       "      <td>3.00</td>\n",
       "      <td>8.00</td>\n",
       "    </tr>\n",
       "    <tr>\n",
       "      <th>Kitchen AbvGr</th>\n",
       "      <td>1.04</td>\n",
       "      <td>0.21</td>\n",
       "      <td>0.00</td>\n",
       "      <td>1.00</td>\n",
       "      <td>3.00</td>\n",
       "    </tr>\n",
       "    <tr>\n",
       "      <th>TotRms AbvGrd</th>\n",
       "      <td>6.44</td>\n",
       "      <td>1.57</td>\n",
       "      <td>2.00</td>\n",
       "      <td>6.00</td>\n",
       "      <td>15.00</td>\n",
       "    </tr>\n",
       "    <tr>\n",
       "      <th>Fireplaces</th>\n",
       "      <td>0.60</td>\n",
       "      <td>0.65</td>\n",
       "      <td>0.00</td>\n",
       "      <td>1.00</td>\n",
       "      <td>4.00</td>\n",
       "    </tr>\n",
       "    <tr>\n",
       "      <th>Garage Yr Blt</th>\n",
       "      <td>1978.13</td>\n",
       "      <td>25.53</td>\n",
       "      <td>1895.00</td>\n",
       "      <td>1979.00</td>\n",
       "      <td>2207.00</td>\n",
       "    </tr>\n",
       "    <tr>\n",
       "      <th>Garage Cars</th>\n",
       "      <td>1.77</td>\n",
       "      <td>0.76</td>\n",
       "      <td>0.00</td>\n",
       "      <td>2.00</td>\n",
       "      <td>5.00</td>\n",
       "    </tr>\n",
       "    <tr>\n",
       "      <th>Garage Area</th>\n",
       "      <td>472.82</td>\n",
       "      <td>215.05</td>\n",
       "      <td>0.00</td>\n",
       "      <td>480.00</td>\n",
       "      <td>1488.00</td>\n",
       "    </tr>\n",
       "    <tr>\n",
       "      <th>Wood Deck SF</th>\n",
       "      <td>93.75</td>\n",
       "      <td>126.36</td>\n",
       "      <td>0.00</td>\n",
       "      <td>0.00</td>\n",
       "      <td>1424.00</td>\n",
       "    </tr>\n",
       "    <tr>\n",
       "      <th>Open Porch SF</th>\n",
       "      <td>47.53</td>\n",
       "      <td>67.48</td>\n",
       "      <td>0.00</td>\n",
       "      <td>27.00</td>\n",
       "      <td>742.00</td>\n",
       "    </tr>\n",
       "    <tr>\n",
       "      <th>Enclosed Porch</th>\n",
       "      <td>23.01</td>\n",
       "      <td>64.14</td>\n",
       "      <td>0.00</td>\n",
       "      <td>0.00</td>\n",
       "      <td>1012.00</td>\n",
       "    </tr>\n",
       "    <tr>\n",
       "      <th>3Ssn Porch</th>\n",
       "      <td>2.59</td>\n",
       "      <td>25.14</td>\n",
       "      <td>0.00</td>\n",
       "      <td>0.00</td>\n",
       "      <td>508.00</td>\n",
       "    </tr>\n",
       "    <tr>\n",
       "      <th>Screen Porch</th>\n",
       "      <td>16.00</td>\n",
       "      <td>56.09</td>\n",
       "      <td>0.00</td>\n",
       "      <td>0.00</td>\n",
       "      <td>576.00</td>\n",
       "    </tr>\n",
       "    <tr>\n",
       "      <th>Pool Area</th>\n",
       "      <td>2.24</td>\n",
       "      <td>35.60</td>\n",
       "      <td>0.00</td>\n",
       "      <td>0.00</td>\n",
       "      <td>800.00</td>\n",
       "    </tr>\n",
       "    <tr>\n",
       "      <th>Misc Val</th>\n",
       "      <td>50.64</td>\n",
       "      <td>566.34</td>\n",
       "      <td>0.00</td>\n",
       "      <td>0.00</td>\n",
       "      <td>17000.00</td>\n",
       "    </tr>\n",
       "    <tr>\n",
       "      <th>Mo Sold</th>\n",
       "      <td>6.22</td>\n",
       "      <td>2.71</td>\n",
       "      <td>1.00</td>\n",
       "      <td>6.00</td>\n",
       "      <td>12.00</td>\n",
       "    </tr>\n",
       "    <tr>\n",
       "      <th>Yr Sold</th>\n",
       "      <td>2007.79</td>\n",
       "      <td>1.32</td>\n",
       "      <td>2006.00</td>\n",
       "      <td>2008.00</td>\n",
       "      <td>2010.00</td>\n",
       "    </tr>\n",
       "    <tr>\n",
       "      <th>SalePrice</th>\n",
       "      <td>180796.06</td>\n",
       "      <td>79886.69</td>\n",
       "      <td>12789.00</td>\n",
       "      <td>160000.00</td>\n",
       "      <td>755000.00</td>\n",
       "    </tr>\n",
       "  </tbody>\n",
       "</table>\n",
       "</div>"
      ],
      "text/plain": [
       "                                mean                  std  \\\n",
       "Order                        1465.50               845.96   \n",
       "PID                     714464496.99         188730844.65   \n",
       "MS SubClass                    57.39                42.64   \n",
       "Lot Frontage                   69.22                23.37   \n",
       "Lot Area                    10147.92              7880.02   \n",
       "Overall Qual                    6.09                 1.41   \n",
       "Overall Cond                    5.56                 1.11   \n",
       "Year Built                   1971.36                30.25   \n",
       "Year Remod/Add               1984.27                20.86   \n",
       "Mas Vnr Area                  101.90               179.11   \n",
       "BsmtFin SF 1                  442.63               455.59   \n",
       "BsmtFin SF 2                   49.72               169.17   \n",
       "Bsmt Unf SF                   559.26               439.49   \n",
       "Total Bsmt SF                1051.61               440.62   \n",
       "1st Flr SF                   1159.56               391.89   \n",
       "2nd Flr SF                    335.46               428.40   \n",
       "Low Qual Fin SF                 4.68                46.31   \n",
       "Gr Liv Area                  1499.69               505.51   \n",
       "Bsmt Full Bath                  0.43                 0.52   \n",
       "Bsmt Half Bath                  0.06                 0.25   \n",
       "Full Bath                       1.57                 0.55   \n",
       "Half Bath                       0.38                 0.50   \n",
       "Bedroom AbvGr                   2.85                 0.83   \n",
       "Kitchen AbvGr                   1.04                 0.21   \n",
       "TotRms AbvGrd                   6.44                 1.57   \n",
       "Fireplaces                      0.60                 0.65   \n",
       "Garage Yr Blt                1978.13                25.53   \n",
       "Garage Cars                     1.77                 0.76   \n",
       "Garage Area                   472.82               215.05   \n",
       "Wood Deck SF                   93.75               126.36   \n",
       "Open Porch SF                  47.53                67.48   \n",
       "Enclosed Porch                 23.01                64.14   \n",
       "3Ssn Porch                      2.59                25.14   \n",
       "Screen Porch                   16.00                56.09   \n",
       "Pool Area                       2.24                35.60   \n",
       "Misc Val                       50.64               566.34   \n",
       "Mo Sold                         6.22                 2.71   \n",
       "Yr Sold                      2007.79                 1.32   \n",
       "SalePrice                  180796.06             79886.69   \n",
       "\n",
       "                                 min                  50%                  max  \n",
       "Order                           1.00              1465.50              2930.00  \n",
       "PID                     526301100.00         535453620.00        1007100110.00  \n",
       "MS SubClass                    20.00                50.00               190.00  \n",
       "Lot Frontage                   21.00                68.00               313.00  \n",
       "Lot Area                     1300.00              9436.50            215245.00  \n",
       "Overall Qual                    1.00                 6.00                10.00  \n",
       "Overall Cond                    1.00                 5.00                 9.00  \n",
       "Year Built                   1872.00              1973.00              2010.00  \n",
       "Year Remod/Add               1950.00              1993.00              2010.00  \n",
       "Mas Vnr Area                    0.00                 0.00              1600.00  \n",
       "BsmtFin SF 1                    0.00               370.00              5644.00  \n",
       "BsmtFin SF 2                    0.00                 0.00              1526.00  \n",
       "Bsmt Unf SF                     0.00               466.00              2336.00  \n",
       "Total Bsmt SF                   0.00               990.00              6110.00  \n",
       "1st Flr SF                    334.00              1084.00              5095.00  \n",
       "2nd Flr SF                      0.00                 0.00              2065.00  \n",
       "Low Qual Fin SF                 0.00                 0.00              1064.00  \n",
       "Gr Liv Area                   334.00              1442.00              5642.00  \n",
       "Bsmt Full Bath                  0.00                 0.00                 3.00  \n",
       "Bsmt Half Bath                  0.00                 0.00                 2.00  \n",
       "Full Bath                       0.00                 2.00                 4.00  \n",
       "Half Bath                       0.00                 0.00                 2.00  \n",
       "Bedroom AbvGr                   0.00                 3.00                 8.00  \n",
       "Kitchen AbvGr                   0.00                 1.00                 3.00  \n",
       "TotRms AbvGrd                   2.00                 6.00                15.00  \n",
       "Fireplaces                      0.00                 1.00                 4.00  \n",
       "Garage Yr Blt                1895.00              1979.00              2207.00  \n",
       "Garage Cars                     0.00                 2.00                 5.00  \n",
       "Garage Area                     0.00               480.00              1488.00  \n",
       "Wood Deck SF                    0.00                 0.00              1424.00  \n",
       "Open Porch SF                   0.00                27.00               742.00  \n",
       "Enclosed Porch                  0.00                 0.00              1012.00  \n",
       "3Ssn Porch                      0.00                 0.00               508.00  \n",
       "Screen Porch                    0.00                 0.00               576.00  \n",
       "Pool Area                       0.00                 0.00               800.00  \n",
       "Misc Val                        0.00                 0.00             17000.00  \n",
       "Mo Sold                         1.00                 6.00                12.00  \n",
       "Yr Sold                      2006.00              2008.00              2010.00  \n",
       "SalePrice                   12789.00            160000.00            755000.00  "
      ]
     },
     "execution_count": 4,
     "metadata": {},
     "output_type": "execute_result"
    }
   ],
   "source": [
    "dataset.describe(include=[np.number], percentiles=[.5]) \\\n",
    "    .transpose() \\\n",
    "    .drop(\"count\", axis=1)"
   ]
  },
  {
   "cell_type": "markdown",
   "metadata": {
    "_uuid": "4dbfda55f073b2ba5a0bdeb6789b6873dd4acba7"
   },
   "source": [
    "From the table above, we can see, for example, that the average lot area of the houses in our dataset is 10,147.92 ft<sup>2</sup> with a standard deviation of 7,880.02 ft<sup>2</sup>. We can see also that the minimum lot area is 1,300 ft<sup>2</sup> and the maximum lot area is 215,245 ft<sup>2</sup> with a median of 9,436.5 ft<sup>2</sup>. Similarly, we can get a lot of information about our dataset variables from the table.\n",
    "\n",
    "Then, we move to see statistical information about the non-numerical columns in our dataset:"
   ]
  },
  {
   "cell_type": "code",
   "execution_count": 5,
   "metadata": {
    "_uuid": "19f37c0edd131ded185a055e459a87a0f1ea903d",
    "tags": [
     "hideOutput"
    ]
   },
   "outputs": [
    {
     "data": {
      "text/html": [
       "<div>\n",
       "<style scoped>\n",
       "    .dataframe tbody tr th:only-of-type {\n",
       "        vertical-align: middle;\n",
       "    }\n",
       "\n",
       "    .dataframe tbody tr th {\n",
       "        vertical-align: top;\n",
       "    }\n",
       "\n",
       "    .dataframe thead th {\n",
       "        text-align: right;\n",
       "    }\n",
       "</style>\n",
       "<table border=\"1\" class=\"dataframe\">\n",
       "  <thead>\n",
       "    <tr style=\"text-align: right;\">\n",
       "      <th></th>\n",
       "      <th>count</th>\n",
       "      <th>unique</th>\n",
       "      <th>top</th>\n",
       "      <th>freq</th>\n",
       "    </tr>\n",
       "  </thead>\n",
       "  <tbody>\n",
       "    <tr>\n",
       "      <th>MS Zoning</th>\n",
       "      <td>2930</td>\n",
       "      <td>7</td>\n",
       "      <td>RL</td>\n",
       "      <td>2273</td>\n",
       "    </tr>\n",
       "    <tr>\n",
       "      <th>Street</th>\n",
       "      <td>2930</td>\n",
       "      <td>2</td>\n",
       "      <td>Pave</td>\n",
       "      <td>2918</td>\n",
       "    </tr>\n",
       "    <tr>\n",
       "      <th>Alley</th>\n",
       "      <td>198</td>\n",
       "      <td>2</td>\n",
       "      <td>Grvl</td>\n",
       "      <td>120</td>\n",
       "    </tr>\n",
       "    <tr>\n",
       "      <th>Lot Shape</th>\n",
       "      <td>2930</td>\n",
       "      <td>4</td>\n",
       "      <td>Reg</td>\n",
       "      <td>1859</td>\n",
       "    </tr>\n",
       "    <tr>\n",
       "      <th>Land Contour</th>\n",
       "      <td>2930</td>\n",
       "      <td>4</td>\n",
       "      <td>Lvl</td>\n",
       "      <td>2633</td>\n",
       "    </tr>\n",
       "    <tr>\n",
       "      <th>Utilities</th>\n",
       "      <td>2930</td>\n",
       "      <td>3</td>\n",
       "      <td>AllPub</td>\n",
       "      <td>2927</td>\n",
       "    </tr>\n",
       "    <tr>\n",
       "      <th>Lot Config</th>\n",
       "      <td>2930</td>\n",
       "      <td>5</td>\n",
       "      <td>Inside</td>\n",
       "      <td>2140</td>\n",
       "    </tr>\n",
       "    <tr>\n",
       "      <th>Land Slope</th>\n",
       "      <td>2930</td>\n",
       "      <td>3</td>\n",
       "      <td>Gtl</td>\n",
       "      <td>2789</td>\n",
       "    </tr>\n",
       "    <tr>\n",
       "      <th>Neighborhood</th>\n",
       "      <td>2930</td>\n",
       "      <td>28</td>\n",
       "      <td>NAmes</td>\n",
       "      <td>443</td>\n",
       "    </tr>\n",
       "    <tr>\n",
       "      <th>Condition 1</th>\n",
       "      <td>2930</td>\n",
       "      <td>9</td>\n",
       "      <td>Norm</td>\n",
       "      <td>2522</td>\n",
       "    </tr>\n",
       "    <tr>\n",
       "      <th>Condition 2</th>\n",
       "      <td>2930</td>\n",
       "      <td>8</td>\n",
       "      <td>Norm</td>\n",
       "      <td>2900</td>\n",
       "    </tr>\n",
       "    <tr>\n",
       "      <th>Bldg Type</th>\n",
       "      <td>2930</td>\n",
       "      <td>5</td>\n",
       "      <td>1Fam</td>\n",
       "      <td>2425</td>\n",
       "    </tr>\n",
       "    <tr>\n",
       "      <th>House Style</th>\n",
       "      <td>2930</td>\n",
       "      <td>8</td>\n",
       "      <td>1Story</td>\n",
       "      <td>1481</td>\n",
       "    </tr>\n",
       "    <tr>\n",
       "      <th>Roof Style</th>\n",
       "      <td>2930</td>\n",
       "      <td>6</td>\n",
       "      <td>Gable</td>\n",
       "      <td>2321</td>\n",
       "    </tr>\n",
       "    <tr>\n",
       "      <th>Roof Matl</th>\n",
       "      <td>2930</td>\n",
       "      <td>8</td>\n",
       "      <td>CompShg</td>\n",
       "      <td>2887</td>\n",
       "    </tr>\n",
       "    <tr>\n",
       "      <th>Exterior 1st</th>\n",
       "      <td>2930</td>\n",
       "      <td>16</td>\n",
       "      <td>VinylSd</td>\n",
       "      <td>1026</td>\n",
       "    </tr>\n",
       "    <tr>\n",
       "      <th>Exterior 2nd</th>\n",
       "      <td>2930</td>\n",
       "      <td>17</td>\n",
       "      <td>VinylSd</td>\n",
       "      <td>1015</td>\n",
       "    </tr>\n",
       "    <tr>\n",
       "      <th>Mas Vnr Type</th>\n",
       "      <td>2907</td>\n",
       "      <td>5</td>\n",
       "      <td>None</td>\n",
       "      <td>1752</td>\n",
       "    </tr>\n",
       "    <tr>\n",
       "      <th>Exter Qual</th>\n",
       "      <td>2930</td>\n",
       "      <td>4</td>\n",
       "      <td>TA</td>\n",
       "      <td>1799</td>\n",
       "    </tr>\n",
       "    <tr>\n",
       "      <th>Exter Cond</th>\n",
       "      <td>2930</td>\n",
       "      <td>5</td>\n",
       "      <td>TA</td>\n",
       "      <td>2549</td>\n",
       "    </tr>\n",
       "    <tr>\n",
       "      <th>Foundation</th>\n",
       "      <td>2930</td>\n",
       "      <td>6</td>\n",
       "      <td>PConc</td>\n",
       "      <td>1310</td>\n",
       "    </tr>\n",
       "    <tr>\n",
       "      <th>Bsmt Qual</th>\n",
       "      <td>2850</td>\n",
       "      <td>5</td>\n",
       "      <td>TA</td>\n",
       "      <td>1283</td>\n",
       "    </tr>\n",
       "    <tr>\n",
       "      <th>Bsmt Cond</th>\n",
       "      <td>2850</td>\n",
       "      <td>5</td>\n",
       "      <td>TA</td>\n",
       "      <td>2616</td>\n",
       "    </tr>\n",
       "    <tr>\n",
       "      <th>Bsmt Exposure</th>\n",
       "      <td>2847</td>\n",
       "      <td>4</td>\n",
       "      <td>No</td>\n",
       "      <td>1906</td>\n",
       "    </tr>\n",
       "    <tr>\n",
       "      <th>BsmtFin Type 1</th>\n",
       "      <td>2850</td>\n",
       "      <td>6</td>\n",
       "      <td>GLQ</td>\n",
       "      <td>859</td>\n",
       "    </tr>\n",
       "    <tr>\n",
       "      <th>BsmtFin Type 2</th>\n",
       "      <td>2849</td>\n",
       "      <td>6</td>\n",
       "      <td>Unf</td>\n",
       "      <td>2499</td>\n",
       "    </tr>\n",
       "    <tr>\n",
       "      <th>Heating</th>\n",
       "      <td>2930</td>\n",
       "      <td>6</td>\n",
       "      <td>GasA</td>\n",
       "      <td>2885</td>\n",
       "    </tr>\n",
       "    <tr>\n",
       "      <th>Heating QC</th>\n",
       "      <td>2930</td>\n",
       "      <td>5</td>\n",
       "      <td>Ex</td>\n",
       "      <td>1495</td>\n",
       "    </tr>\n",
       "    <tr>\n",
       "      <th>Central Air</th>\n",
       "      <td>2930</td>\n",
       "      <td>2</td>\n",
       "      <td>Y</td>\n",
       "      <td>2734</td>\n",
       "    </tr>\n",
       "    <tr>\n",
       "      <th>Electrical</th>\n",
       "      <td>2929</td>\n",
       "      <td>5</td>\n",
       "      <td>SBrkr</td>\n",
       "      <td>2682</td>\n",
       "    </tr>\n",
       "    <tr>\n",
       "      <th>Kitchen Qual</th>\n",
       "      <td>2930</td>\n",
       "      <td>5</td>\n",
       "      <td>TA</td>\n",
       "      <td>1494</td>\n",
       "    </tr>\n",
       "    <tr>\n",
       "      <th>Functional</th>\n",
       "      <td>2930</td>\n",
       "      <td>8</td>\n",
       "      <td>Typ</td>\n",
       "      <td>2728</td>\n",
       "    </tr>\n",
       "    <tr>\n",
       "      <th>Fireplace Qu</th>\n",
       "      <td>1508</td>\n",
       "      <td>5</td>\n",
       "      <td>Gd</td>\n",
       "      <td>744</td>\n",
       "    </tr>\n",
       "    <tr>\n",
       "      <th>Garage Type</th>\n",
       "      <td>2773</td>\n",
       "      <td>6</td>\n",
       "      <td>Attchd</td>\n",
       "      <td>1731</td>\n",
       "    </tr>\n",
       "    <tr>\n",
       "      <th>Garage Finish</th>\n",
       "      <td>2771</td>\n",
       "      <td>3</td>\n",
       "      <td>Unf</td>\n",
       "      <td>1231</td>\n",
       "    </tr>\n",
       "    <tr>\n",
       "      <th>Garage Qual</th>\n",
       "      <td>2771</td>\n",
       "      <td>5</td>\n",
       "      <td>TA</td>\n",
       "      <td>2615</td>\n",
       "    </tr>\n",
       "    <tr>\n",
       "      <th>Garage Cond</th>\n",
       "      <td>2771</td>\n",
       "      <td>5</td>\n",
       "      <td>TA</td>\n",
       "      <td>2665</td>\n",
       "    </tr>\n",
       "    <tr>\n",
       "      <th>Paved Drive</th>\n",
       "      <td>2930</td>\n",
       "      <td>3</td>\n",
       "      <td>Y</td>\n",
       "      <td>2652</td>\n",
       "    </tr>\n",
       "    <tr>\n",
       "      <th>Pool QC</th>\n",
       "      <td>13</td>\n",
       "      <td>4</td>\n",
       "      <td>Ex</td>\n",
       "      <td>4</td>\n",
       "    </tr>\n",
       "    <tr>\n",
       "      <th>Fence</th>\n",
       "      <td>572</td>\n",
       "      <td>4</td>\n",
       "      <td>MnPrv</td>\n",
       "      <td>330</td>\n",
       "    </tr>\n",
       "    <tr>\n",
       "      <th>Misc Feature</th>\n",
       "      <td>106</td>\n",
       "      <td>5</td>\n",
       "      <td>Shed</td>\n",
       "      <td>95</td>\n",
       "    </tr>\n",
       "    <tr>\n",
       "      <th>Sale Type</th>\n",
       "      <td>2930</td>\n",
       "      <td>10</td>\n",
       "      <td>WD</td>\n",
       "      <td>2536</td>\n",
       "    </tr>\n",
       "    <tr>\n",
       "      <th>Sale Condition</th>\n",
       "      <td>2930</td>\n",
       "      <td>6</td>\n",
       "      <td>Normal</td>\n",
       "      <td>2413</td>\n",
       "    </tr>\n",
       "  </tbody>\n",
       "</table>\n",
       "</div>"
      ],
      "text/plain": [
       "               count unique      top  freq\n",
       "MS Zoning       2930      7       RL  2273\n",
       "Street          2930      2     Pave  2918\n",
       "Alley            198      2     Grvl   120\n",
       "Lot Shape       2930      4      Reg  1859\n",
       "Land Contour    2930      4      Lvl  2633\n",
       "Utilities       2930      3   AllPub  2927\n",
       "Lot Config      2930      5   Inside  2140\n",
       "Land Slope      2930      3      Gtl  2789\n",
       "Neighborhood    2930     28    NAmes   443\n",
       "Condition 1     2930      9     Norm  2522\n",
       "Condition 2     2930      8     Norm  2900\n",
       "Bldg Type       2930      5     1Fam  2425\n",
       "House Style     2930      8   1Story  1481\n",
       "Roof Style      2930      6    Gable  2321\n",
       "Roof Matl       2930      8  CompShg  2887\n",
       "Exterior 1st    2930     16  VinylSd  1026\n",
       "Exterior 2nd    2930     17  VinylSd  1015\n",
       "Mas Vnr Type    2907      5     None  1752\n",
       "Exter Qual      2930      4       TA  1799\n",
       "Exter Cond      2930      5       TA  2549\n",
       "Foundation      2930      6    PConc  1310\n",
       "Bsmt Qual       2850      5       TA  1283\n",
       "Bsmt Cond       2850      5       TA  2616\n",
       "Bsmt Exposure   2847      4       No  1906\n",
       "BsmtFin Type 1  2850      6      GLQ   859\n",
       "BsmtFin Type 2  2849      6      Unf  2499\n",
       "Heating         2930      6     GasA  2885\n",
       "Heating QC      2930      5       Ex  1495\n",
       "Central Air     2930      2        Y  2734\n",
       "Electrical      2929      5    SBrkr  2682\n",
       "Kitchen Qual    2930      5       TA  1494\n",
       "Functional      2930      8      Typ  2728\n",
       "Fireplace Qu    1508      5       Gd   744\n",
       "Garage Type     2773      6   Attchd  1731\n",
       "Garage Finish   2771      3      Unf  1231\n",
       "Garage Qual     2771      5       TA  2615\n",
       "Garage Cond     2771      5       TA  2665\n",
       "Paved Drive     2930      3        Y  2652\n",
       "Pool QC           13      4       Ex     4\n",
       "Fence            572      4    MnPrv   330\n",
       "Misc Feature     106      5     Shed    95\n",
       "Sale Type       2930     10      WD   2536\n",
       "Sale Condition  2930      6   Normal  2413"
      ]
     },
     "execution_count": 5,
     "metadata": {},
     "output_type": "execute_result"
    }
   ],
   "source": [
    "dataset.describe(include=[np.object]) \\\n",
    "    .transpose()"
   ]
  },
  {
   "cell_type": "markdown",
   "metadata": {
    "_uuid": "b60a99bd63faeb44b1bf2b3281dc7656fc0e392f"
   },
   "source": [
    "In the table we got, `count` represents the number of non-null values in each column, `unique` represents the number of unique values, `top` represents the most frequent element, and `freq` represents the frequency of the most frequent element."
   ]
  },
  {
   "cell_type": "markdown",
   "metadata": {},
   "source": [
    "### Dealing with Missing Values\n",
    "\n",
    "We should deal with the problem of missing values because some machine learning models don't accept data with missing values. Firstly, let's see the number of missing values in our dataset. We want to see the number and the percentage of missing values for each column that actually contains missing values."
   ]
  },
  {
   "cell_type": "code",
   "execution_count": 6,
   "metadata": {
    "_uuid": "8afdfebf4c8d0c847da52d5d9df6564cc2b2f2e5",
    "tags": [
     "hideOutput"
    ]
   },
   "outputs": [
    {
     "data": {
      "text/html": [
       "<div>\n",
       "<style scoped>\n",
       "    .dataframe tbody tr th:only-of-type {\n",
       "        vertical-align: middle;\n",
       "    }\n",
       "\n",
       "    .dataframe tbody tr th {\n",
       "        vertical-align: top;\n",
       "    }\n",
       "\n",
       "    .dataframe thead th {\n",
       "        text-align: right;\n",
       "    }\n",
       "</style>\n",
       "<table border=\"1\" class=\"dataframe\">\n",
       "  <thead>\n",
       "    <tr style=\"text-align: right;\">\n",
       "      <th></th>\n",
       "      <th>Missing Values</th>\n",
       "      <th>Percentage</th>\n",
       "    </tr>\n",
       "  </thead>\n",
       "  <tbody>\n",
       "    <tr>\n",
       "      <th>Pool QC</th>\n",
       "      <td>2917</td>\n",
       "      <td>99.56</td>\n",
       "    </tr>\n",
       "    <tr>\n",
       "      <th>Misc Feature</th>\n",
       "      <td>2824</td>\n",
       "      <td>96.38</td>\n",
       "    </tr>\n",
       "    <tr>\n",
       "      <th>Alley</th>\n",
       "      <td>2732</td>\n",
       "      <td>93.24</td>\n",
       "    </tr>\n",
       "    <tr>\n",
       "      <th>Fence</th>\n",
       "      <td>2358</td>\n",
       "      <td>80.48</td>\n",
       "    </tr>\n",
       "    <tr>\n",
       "      <th>Fireplace Qu</th>\n",
       "      <td>1422</td>\n",
       "      <td>48.53</td>\n",
       "    </tr>\n",
       "    <tr>\n",
       "      <th>Lot Frontage</th>\n",
       "      <td>490</td>\n",
       "      <td>16.72</td>\n",
       "    </tr>\n",
       "    <tr>\n",
       "      <th>Garage Cond</th>\n",
       "      <td>159</td>\n",
       "      <td>5.43</td>\n",
       "    </tr>\n",
       "    <tr>\n",
       "      <th>Garage Qual</th>\n",
       "      <td>159</td>\n",
       "      <td>5.43</td>\n",
       "    </tr>\n",
       "    <tr>\n",
       "      <th>Garage Finish</th>\n",
       "      <td>159</td>\n",
       "      <td>5.43</td>\n",
       "    </tr>\n",
       "    <tr>\n",
       "      <th>Garage Yr Blt</th>\n",
       "      <td>159</td>\n",
       "      <td>5.43</td>\n",
       "    </tr>\n",
       "    <tr>\n",
       "      <th>Garage Type</th>\n",
       "      <td>157</td>\n",
       "      <td>5.36</td>\n",
       "    </tr>\n",
       "    <tr>\n",
       "      <th>Bsmt Exposure</th>\n",
       "      <td>83</td>\n",
       "      <td>2.83</td>\n",
       "    </tr>\n",
       "    <tr>\n",
       "      <th>BsmtFin Type 2</th>\n",
       "      <td>81</td>\n",
       "      <td>2.76</td>\n",
       "    </tr>\n",
       "    <tr>\n",
       "      <th>BsmtFin Type 1</th>\n",
       "      <td>80</td>\n",
       "      <td>2.73</td>\n",
       "    </tr>\n",
       "    <tr>\n",
       "      <th>Bsmt Qual</th>\n",
       "      <td>80</td>\n",
       "      <td>2.73</td>\n",
       "    </tr>\n",
       "    <tr>\n",
       "      <th>Bsmt Cond</th>\n",
       "      <td>80</td>\n",
       "      <td>2.73</td>\n",
       "    </tr>\n",
       "    <tr>\n",
       "      <th>Mas Vnr Area</th>\n",
       "      <td>23</td>\n",
       "      <td>0.78</td>\n",
       "    </tr>\n",
       "    <tr>\n",
       "      <th>Mas Vnr Type</th>\n",
       "      <td>23</td>\n",
       "      <td>0.78</td>\n",
       "    </tr>\n",
       "    <tr>\n",
       "      <th>Bsmt Half Bath</th>\n",
       "      <td>2</td>\n",
       "      <td>0.07</td>\n",
       "    </tr>\n",
       "    <tr>\n",
       "      <th>Bsmt Full Bath</th>\n",
       "      <td>2</td>\n",
       "      <td>0.07</td>\n",
       "    </tr>\n",
       "    <tr>\n",
       "      <th>Total Bsmt SF</th>\n",
       "      <td>1</td>\n",
       "      <td>0.03</td>\n",
       "    </tr>\n",
       "    <tr>\n",
       "      <th>Bsmt Unf SF</th>\n",
       "      <td>1</td>\n",
       "      <td>0.03</td>\n",
       "    </tr>\n",
       "    <tr>\n",
       "      <th>Garage Cars</th>\n",
       "      <td>1</td>\n",
       "      <td>0.03</td>\n",
       "    </tr>\n",
       "    <tr>\n",
       "      <th>Garage Area</th>\n",
       "      <td>1</td>\n",
       "      <td>0.03</td>\n",
       "    </tr>\n",
       "    <tr>\n",
       "      <th>BsmtFin SF 2</th>\n",
       "      <td>1</td>\n",
       "      <td>0.03</td>\n",
       "    </tr>\n",
       "    <tr>\n",
       "      <th>BsmtFin SF 1</th>\n",
       "      <td>1</td>\n",
       "      <td>0.03</td>\n",
       "    </tr>\n",
       "    <tr>\n",
       "      <th>Electrical</th>\n",
       "      <td>1</td>\n",
       "      <td>0.03</td>\n",
       "    </tr>\n",
       "  </tbody>\n",
       "</table>\n",
       "</div>"
      ],
      "text/plain": [
       "                Missing Values           Percentage\n",
       "Pool QC                   2917                99.56\n",
       "Misc Feature              2824                96.38\n",
       "Alley                     2732                93.24\n",
       "Fence                     2358                80.48\n",
       "Fireplace Qu              1422                48.53\n",
       "Lot Frontage               490                16.72\n",
       "Garage Cond                159                 5.43\n",
       "Garage Qual                159                 5.43\n",
       "Garage Finish              159                 5.43\n",
       "Garage Yr Blt              159                 5.43\n",
       "Garage Type                157                 5.36\n",
       "Bsmt Exposure               83                 2.83\n",
       "BsmtFin Type 2              81                 2.76\n",
       "BsmtFin Type 1              80                 2.73\n",
       "Bsmt Qual                   80                 2.73\n",
       "Bsmt Cond                   80                 2.73\n",
       "Mas Vnr Area                23                 0.78\n",
       "Mas Vnr Type                23                 0.78\n",
       "Bsmt Half Bath               2                 0.07\n",
       "Bsmt Full Bath               2                 0.07\n",
       "Total Bsmt SF                1                 0.03\n",
       "Bsmt Unf SF                  1                 0.03\n",
       "Garage Cars                  1                 0.03\n",
       "Garage Area                  1                 0.03\n",
       "BsmtFin SF 2                 1                 0.03\n",
       "BsmtFin SF 1                 1                 0.03\n",
       "Electrical                   1                 0.03"
      ]
     },
     "execution_count": 6,
     "metadata": {},
     "output_type": "execute_result"
    }
   ],
   "source": [
    "# Getting the number of missing values in each column\n",
    "num_missing = dataset.isna().sum()\n",
    "# Excluding columns that contains 0 missing values\n",
    "num_missing = num_missing[num_missing > 0]\n",
    "# Getting the percentages of missing values\n",
    "percent_missing = num_missing * 100 / dataset.shape[0]\n",
    "# Concatenating the number and perecentage of missing values \n",
    "# into one dataframe and sorting it\n",
    "pd.concat([num_missing, percent_missing], axis=1, \n",
    "          keys=['Missing Values', 'Percentage']).\\\n",
    "          sort_values(by=\"Missing Values\", ascending=False)"
   ]
  },
  {
   "cell_type": "markdown",
   "metadata": {
    "_uuid": "62318b69d7af08e3a4a9ef57c6774b74ee044706"
   },
   "source": [
    "Now we start dealing with these missing values.\n",
    "\n",
    "##### Pool QC\n",
    "\n",
    "The percentage of missing values in `Pool QC` column is 99.56% which is very high. I think that a missing value in this column denotes that the corresponding house doesn't have a pool. To verify this, let's take a look at the values of `Pool Area` column:"
   ]
  },
  {
   "cell_type": "code",
   "execution_count": 7,
   "metadata": {
    "_uuid": "6ea529e2f8c98670e66f7ff09a0641e27f25934e",
    "tags": [
     "hideOutput"
    ]
   },
   "outputs": [
    {
     "data": {
      "text/plain": [
       "0      2917\n",
       "561       1\n",
       "555       1\n",
       "519       1\n",
       "800       1\n",
       "738       1\n",
       "648       1\n",
       "576       1\n",
       "512       1\n",
       "480       1\n",
       "444       1\n",
       "368       1\n",
       "228       1\n",
       "144       1\n",
       "Name: Pool Area, dtype: int64"
      ]
     },
     "execution_count": 7,
     "metadata": {},
     "output_type": "execute_result"
    }
   ],
   "source": [
    "dataset[\"Pool Area\"].value_counts()"
   ]
  },
  {
   "cell_type": "markdown",
   "metadata": {
    "_uuid": "ba1b712d09b931d8325dfda7fe7e28499104cda0"
   },
   "source": [
    "We can see that there are 2917 entries in `Pool Area` column that have a value of 0. This verfies my hypothesis that each house without a pool has a missing value in `Pool QC` column and a value of 0 in `Pool Area` column. So let's fill the missing values in `Pool QC` column with `\"No Pool\"`:"
   ]
  },
  {
   "cell_type": "code",
   "execution_count": 8,
   "metadata": {
    "_uuid": "70856c63e3233ce7b1b3cf6eafbdbc5b11524fe5"
   },
   "outputs": [],
   "source": [
    "dataset[\"Pool QC\"].fillna(\"No Pool\", inplace=True)"
   ]
  },
  {
   "cell_type": "markdown",
   "metadata": {
    "_uuid": "3cc6e583c0b3122657c861f3d06f2562dd993211"
   },
   "source": [
    "##### Misc Feature\n",
    "\n",
    "The percentage of missing values in Pool QC column is 96.38% which is very high also. Let's take a look at the values of `Misc Val` column:"
   ]
  },
  {
   "cell_type": "code",
   "execution_count": 9,
   "metadata": {
    "_uuid": "c4c5ba3a91f6bd0dbcbb142fd2936f048e17b26e",
    "tags": [
     "hideOutput"
    ]
   },
   "outputs": [
    {
     "data": {
      "text/plain": [
       "0        2827\n",
       "400        18\n",
       "500        13\n",
       "450         9\n",
       "600         8\n",
       "700         7\n",
       "2000        7\n",
       "650         3\n",
       "1200        3\n",
       "1500        3\n",
       "4500        2\n",
       "2500        2\n",
       "480         2\n",
       "3000        2\n",
       "12500       1\n",
       "300         1\n",
       "350         1\n",
       "8300        1\n",
       "420         1\n",
       "80          1\n",
       "54          1\n",
       "460         1\n",
       "490         1\n",
       "3500        1\n",
       "560         1\n",
       "17000       1\n",
       "15500       1\n",
       "750         1\n",
       "800         1\n",
       "900         1\n",
       "1000        1\n",
       "1150        1\n",
       "1300        1\n",
       "1400        1\n",
       "1512        1\n",
       "6500        1\n",
       "455         1\n",
       "620         1\n",
       "Name: Misc Val, dtype: int64"
      ]
     },
     "execution_count": 9,
     "metadata": {},
     "output_type": "execute_result"
    }
   ],
   "source": [
    "dataset[\"Misc Val\"].value_counts()"
   ]
  },
  {
   "cell_type": "markdown",
   "metadata": {
    "_uuid": "9377d756640fd797d95618ebdd70a365ef317d75"
   },
   "source": [
    "We can see that `Misc Val` column has 2827 entries with a value of 0. `Misc Feature` has 2824 missing values. Then, as with `Pool QC`, we can say that each house without a \"miscellaneous feature\" has a missing value in `Misc Feature` column and a value of 0 in `Misc Val` column. So let's fill the missing values in `Misc Feature` column with `\"No Feature\"`:"
   ]
  },
  {
   "cell_type": "code",
   "execution_count": 10,
   "metadata": {
    "_uuid": "3aab1df96559331eeeaef49687a59a086bf95337"
   },
   "outputs": [],
   "source": [
    "dataset['Misc Feature'].fillna('No feature', inplace=True)"
   ]
  },
  {
   "cell_type": "markdown",
   "metadata": {
    "_uuid": "ed1fb5d8885833961d13eefa2f6184437589f694"
   },
   "source": [
    "##### Alley,  Fence, and Fireplace Qu\n",
    "\n",
    "According to the dataset documentation, `NA` in `Alley`, `Fence`, and `Fireplace Qu` columns denotes that the house doesn't have an alley, fence, or fireplace. So we fill in the missing values in these columns with `\"No Alley\"`, `\"No Fence\"`, and `\"No Fireplace\"` accordingly:"
   ]
  },
  {
   "cell_type": "code",
   "execution_count": 11,
   "metadata": {
    "_uuid": "ede465d77e7081313ad69e169e653bf7882f3be6"
   },
   "outputs": [],
   "source": [
    "dataset['Alley'].fillna('No Alley', inplace=True)\n",
    "dataset['Fence'].fillna('No Fence', inplace=True)\n",
    "dataset['Fireplace Qu'].fillna('No Fireplace', inplace=True)"
   ]
  },
  {
   "cell_type": "markdown",
   "metadata": {
    "_uuid": "195a26537342ab271329a2d279c2a4d6246b9fc4"
   },
   "source": [
    "##### Lot Frontage\n",
    "\n",
    "`Lot Frontage` represents the linear feet of street connected to the house. So we assume that the missing values in this column indicates that the house is not connected to any street, and we fill in the missing values with 0:"
   ]
  },
  {
   "cell_type": "code",
   "execution_count": 12,
   "metadata": {
    "_uuid": "3421cc13bc829170d8425bce7db91d225717302e"
   },
   "outputs": [],
   "source": [
    "dataset['Lot Frontage'].fillna(0, inplace=True)"
   ]
  },
  {
   "cell_type": "markdown",
   "metadata": {
    "_uuid": "c1e988ba5acf82b9a0eac8c7c4a39a47c0f936b4"
   },
   "source": [
    "##### Garage Cond, Garage Qual, Garage Finish, Garage Yr Blt, Garage Type, Garage Cars, and Garage Area\n",
    "\n",
    "According to the dataset documentation, `NA` in `Garage Cond`, `Garage Qual`, `Garage Finish`, and `Garage Type` indicates that there is no garage in the house. So we fill in the missing values in these columns with `\"No Garage\"`. We notice that `Garage Cond`, `Garage Qual`, `Garage Finish`, `Garage Yr Blt` columns have 159 missing values, but `Garage Type` has 157 and both `Garage Cars` and `Garage Area` have one missing value. Let's take a look at the row that contains the missing value in `Garage Cars`:"
   ]
  },
  {
   "cell_type": "code",
   "execution_count": 13,
   "metadata": {
    "_uuid": "ae6a88dfe52784e01bb7b5446f3218dd40c8f3a7",
    "tags": [
     "hideOutput"
    ]
   },
   "outputs": [
    {
     "data": {
      "text/html": [
       "<div>\n",
       "<style scoped>\n",
       "    .dataframe tbody tr th:only-of-type {\n",
       "        vertical-align: middle;\n",
       "    }\n",
       "\n",
       "    .dataframe tbody tr th {\n",
       "        vertical-align: top;\n",
       "    }\n",
       "\n",
       "    .dataframe thead th {\n",
       "        text-align: right;\n",
       "    }\n",
       "</style>\n",
       "<table border=\"1\" class=\"dataframe\">\n",
       "  <thead>\n",
       "    <tr style=\"text-align: right;\">\n",
       "      <th></th>\n",
       "      <th>Garage Type</th>\n",
       "      <th>Garage Yr Blt</th>\n",
       "      <th>Garage Finish</th>\n",
       "      <th>Garage Cars</th>\n",
       "      <th>Garage Area</th>\n",
       "      <th>Garage Qual</th>\n",
       "      <th>Garage Cond</th>\n",
       "    </tr>\n",
       "  </thead>\n",
       "  <tbody>\n",
       "    <tr>\n",
       "      <th>2236</th>\n",
       "      <td>Detchd</td>\n",
       "      <td>nan</td>\n",
       "      <td>NaN</td>\n",
       "      <td>nan</td>\n",
       "      <td>nan</td>\n",
       "      <td>NaN</td>\n",
       "      <td>NaN</td>\n",
       "    </tr>\n",
       "  </tbody>\n",
       "</table>\n",
       "</div>"
      ],
      "text/plain": [
       "     Garage Type        Garage Yr Blt Garage Finish          Garage Cars  \\\n",
       "2236      Detchd                  nan           NaN                  nan   \n",
       "\n",
       "              Garage Area Garage Qual Garage Cond  \n",
       "2236                  nan         NaN         NaN  "
      ]
     },
     "execution_count": 13,
     "metadata": {},
     "output_type": "execute_result"
    }
   ],
   "source": [
    "garage_columns = [col for col in dataset.columns if col.startswith(\"Garage\")]\n",
    "dataset[dataset['Garage Cars'].isna()][garage_columns]"
   ]
  },
  {
   "cell_type": "markdown",
   "metadata": {
    "_uuid": "bed6d394efd8e979b512df4d286bd9301e5180a2"
   },
   "source": [
    "We can see that this is the same row that contains the missing value in `Garage Area`, and that all garage columns except `Garage Type` are null in this row, so we will fill the missing values in `Garage Cars` and `Garage Area` with 0."
   ]
  },
  {
   "cell_type": "markdown",
   "metadata": {
    "_uuid": "b1d03bfb8da69349b6bc17dfadd5b02560d51df9"
   },
   "source": [
    "We saw that there are 2 rows where `Garage Type` is not null while `Garage Cond`, `Garage Qual`, `Garage Finish`, and `Garage Yr Blt` columns are null. Let's take a look at these two rows:"
   ]
  },
  {
   "cell_type": "code",
   "execution_count": 14,
   "metadata": {
    "_uuid": "1921da3e01f059fd6cd4bb07ebc97793594d610e",
    "tags": [
     "hideOutput"
    ]
   },
   "outputs": [
    {
     "data": {
      "text/html": [
       "<div>\n",
       "<style scoped>\n",
       "    .dataframe tbody tr th:only-of-type {\n",
       "        vertical-align: middle;\n",
       "    }\n",
       "\n",
       "    .dataframe tbody tr th {\n",
       "        vertical-align: top;\n",
       "    }\n",
       "\n",
       "    .dataframe thead th {\n",
       "        text-align: right;\n",
       "    }\n",
       "</style>\n",
       "<table border=\"1\" class=\"dataframe\">\n",
       "  <thead>\n",
       "    <tr style=\"text-align: right;\">\n",
       "      <th></th>\n",
       "      <th>Garage Type</th>\n",
       "      <th>Garage Yr Blt</th>\n",
       "      <th>Garage Finish</th>\n",
       "      <th>Garage Cars</th>\n",
       "      <th>Garage Area</th>\n",
       "      <th>Garage Qual</th>\n",
       "      <th>Garage Cond</th>\n",
       "    </tr>\n",
       "  </thead>\n",
       "  <tbody>\n",
       "    <tr>\n",
       "      <th>1356</th>\n",
       "      <td>Detchd</td>\n",
       "      <td>nan</td>\n",
       "      <td>NaN</td>\n",
       "      <td>1.00</td>\n",
       "      <td>360.00</td>\n",
       "      <td>NaN</td>\n",
       "      <td>NaN</td>\n",
       "    </tr>\n",
       "    <tr>\n",
       "      <th>2236</th>\n",
       "      <td>Detchd</td>\n",
       "      <td>nan</td>\n",
       "      <td>NaN</td>\n",
       "      <td>nan</td>\n",
       "      <td>nan</td>\n",
       "      <td>NaN</td>\n",
       "      <td>NaN</td>\n",
       "    </tr>\n",
       "  </tbody>\n",
       "</table>\n",
       "</div>"
      ],
      "text/plain": [
       "     Garage Type        Garage Yr Blt Garage Finish          Garage Cars  \\\n",
       "1356      Detchd                  nan           NaN                 1.00   \n",
       "2236      Detchd                  nan           NaN                  nan   \n",
       "\n",
       "              Garage Area Garage Qual Garage Cond  \n",
       "1356               360.00         NaN         NaN  \n",
       "2236                  nan         NaN         NaN  "
      ]
     },
     "execution_count": 14,
     "metadata": {},
     "output_type": "execute_result"
    }
   ],
   "source": [
    "dataset[~pd.isna(dataset['Garage Type']) & \n",
    "        pd.isna(dataset['Garage Qual'])][garage_columns]"
   ]
  },
  {
   "cell_type": "markdown",
   "metadata": {
    "_uuid": "29be2be21f31da7d26821a2408a8e95326c227d3"
   },
   "source": [
    "We will replace the values of `Garage Type` with `\"No Garage\"` in these two rows also.\n",
    "\n",
    "For `Garage Yr Blt`, we will fill in missing values with 0 since this is a numerical column:"
   ]
  },
  {
   "cell_type": "code",
   "execution_count": 15,
   "metadata": {
    "_uuid": "cb8934e303a0982aca037320ab744484da7f2b1e"
   },
   "outputs": [],
   "source": [
    "dataset['Garage Cars'].fillna(0, inplace=True)\n",
    "dataset['Garage Area'].fillna(0, inplace=True)\n",
    "\n",
    "dataset.loc[~pd.isna(dataset['Garage Type']) & \n",
    "            pd.isna(dataset['Garage Qual']), \"Garage Type\"] = \"No Garage\"\n",
    "\n",
    "for col in ['Garage Type', 'Garage Finish', 'Garage Qual', 'Garage Cond']:\n",
    "    dataset[col].fillna('No Garage', inplace=True)\n",
    "    \n",
    "dataset['Garage Yr Blt'].fillna(0, inplace=True)"
   ]
  },
  {
   "cell_type": "markdown",
   "metadata": {
    "_uuid": "61b1eac8d781cbbaf8a3129daf6a505030174ccb"
   },
   "source": [
    "##### Bsmt Exposure, BsmtFin Type 2, BsmtFin Type 1, Bsmt Qual, Bsmt Cond, Bsmt Half Bath, Bsmt Full Bath, Total Bsmt SF, Bsmt Unf SF, BsmtFin SF 2, and BsmtFin SF 1\n",
    "\n",
    "\n",
    "According to the dataset documentation, `NA` in any of the first five of these columns indicates that there is no basement in the house. So we fill in the missing values in these columns with `\"No Basement\"`. We notice that the first five of these columns have 80 missing values, but `BsmtFin Type 2` has 81, `Bsmt Exposure` has 83, `Bsmt Half Bath` and `Bsmt Full Bath` each has 2, and each of the others has 1. Let's take a look at the rows where `Bsmt Half Bath` is null:"
   ]
  },
  {
   "cell_type": "code",
   "execution_count": 16,
   "metadata": {
    "_uuid": "20d7f6799d715e746897c4c34c5b7f5bfc736992",
    "tags": [
     "hideOutput"
    ]
   },
   "outputs": [
    {
     "data": {
      "text/html": [
       "<div>\n",
       "<style scoped>\n",
       "    .dataframe tbody tr th:only-of-type {\n",
       "        vertical-align: middle;\n",
       "    }\n",
       "\n",
       "    .dataframe tbody tr th {\n",
       "        vertical-align: top;\n",
       "    }\n",
       "\n",
       "    .dataframe thead th {\n",
       "        text-align: right;\n",
       "    }\n",
       "</style>\n",
       "<table border=\"1\" class=\"dataframe\">\n",
       "  <thead>\n",
       "    <tr style=\"text-align: right;\">\n",
       "      <th></th>\n",
       "      <th>Bsmt Qual</th>\n",
       "      <th>Bsmt Cond</th>\n",
       "      <th>Bsmt Exposure</th>\n",
       "      <th>BsmtFin Type 1</th>\n",
       "      <th>BsmtFin SF 1</th>\n",
       "      <th>BsmtFin Type 2</th>\n",
       "      <th>BsmtFin SF 2</th>\n",
       "      <th>Bsmt Unf SF</th>\n",
       "      <th>Total Bsmt SF</th>\n",
       "      <th>Bsmt Full Bath</th>\n",
       "      <th>Bsmt Half Bath</th>\n",
       "    </tr>\n",
       "  </thead>\n",
       "  <tbody>\n",
       "    <tr>\n",
       "      <th>1341</th>\n",
       "      <td>NaN</td>\n",
       "      <td>NaN</td>\n",
       "      <td>NaN</td>\n",
       "      <td>NaN</td>\n",
       "      <td>nan</td>\n",
       "      <td>NaN</td>\n",
       "      <td>nan</td>\n",
       "      <td>nan</td>\n",
       "      <td>nan</td>\n",
       "      <td>nan</td>\n",
       "      <td>nan</td>\n",
       "    </tr>\n",
       "    <tr>\n",
       "      <th>1497</th>\n",
       "      <td>NaN</td>\n",
       "      <td>NaN</td>\n",
       "      <td>NaN</td>\n",
       "      <td>NaN</td>\n",
       "      <td>0.00</td>\n",
       "      <td>NaN</td>\n",
       "      <td>0.00</td>\n",
       "      <td>0.00</td>\n",
       "      <td>0.00</td>\n",
       "      <td>nan</td>\n",
       "      <td>nan</td>\n",
       "    </tr>\n",
       "  </tbody>\n",
       "</table>\n",
       "</div>"
      ],
      "text/plain": [
       "     Bsmt Qual Bsmt Cond Bsmt Exposure BsmtFin Type 1         BsmtFin SF 1  \\\n",
       "1341       NaN       NaN           NaN            NaN                  nan   \n",
       "1497       NaN       NaN           NaN            NaN                 0.00   \n",
       "\n",
       "     BsmtFin Type 2         BsmtFin SF 2          Bsmt Unf SF  \\\n",
       "1341            NaN                  nan                  nan   \n",
       "1497            NaN                 0.00                 0.00   \n",
       "\n",
       "            Total Bsmt SF       Bsmt Full Bath       Bsmt Half Bath  \n",
       "1341                  nan                  nan                  nan  \n",
       "1497                 0.00                  nan                  nan  "
      ]
     },
     "execution_count": 16,
     "metadata": {},
     "output_type": "execute_result"
    }
   ],
   "source": [
    "bsmt_columns = [col for col in dataset.columns if \"Bsmt\" in col]\n",
    "dataset[dataset['Bsmt Half Bath'].isna()][bsmt_columns]"
   ]
  },
  {
   "cell_type": "markdown",
   "metadata": {
    "_uuid": "9e0eac1b44ad681fc916f0e8f8ee8b8157307749"
   },
   "source": [
    "We can see that these are the same rows that contain the missing values in `Bsmt Full Bath`, and that one of these two rows contains the missing value in each of `Total Bsmt SF`, `Bsmt Unf SF`, `BsmtFin SF 2`, and `BsmtFin SF 1` columns. We notice also that `Bsmt Exposure`, `BsmtFin Type 2`, `BsmtFin Type 1`, `Bsmt Qual`, and `Bsmt Cond` are null in these rows, so we will fill the missing values in `Bsmt Half Bath`, `Bsmt Full Bath`, `Total Bsmt SF`, `Bsmt Unf SF`, `BsmtFin SF 2`, and `BsmtFin SF 1` columns with 0.\n",
    "\n",
    "We saw that there are 3 rows where `Bsmt Exposure` is null while `BsmtFin Type 1`, `Bsmt Qual`, and `Bsmt Cond` are not null. Let's take a look at these three rows:"
   ]
  },
  {
   "cell_type": "code",
   "execution_count": 17,
   "metadata": {
    "_uuid": "b2f9b65ca516f481f9729251f58a806c3fb77081",
    "scrolled": true,
    "tags": [
     "hideOutput"
    ]
   },
   "outputs": [
    {
     "data": {
      "text/html": [
       "<div>\n",
       "<style scoped>\n",
       "    .dataframe tbody tr th:only-of-type {\n",
       "        vertical-align: middle;\n",
       "    }\n",
       "\n",
       "    .dataframe tbody tr th {\n",
       "        vertical-align: top;\n",
       "    }\n",
       "\n",
       "    .dataframe thead th {\n",
       "        text-align: right;\n",
       "    }\n",
       "</style>\n",
       "<table border=\"1\" class=\"dataframe\">\n",
       "  <thead>\n",
       "    <tr style=\"text-align: right;\">\n",
       "      <th></th>\n",
       "      <th>Bsmt Qual</th>\n",
       "      <th>Bsmt Cond</th>\n",
       "      <th>Bsmt Exposure</th>\n",
       "      <th>BsmtFin Type 1</th>\n",
       "      <th>BsmtFin SF 1</th>\n",
       "      <th>BsmtFin Type 2</th>\n",
       "      <th>BsmtFin SF 2</th>\n",
       "      <th>Bsmt Unf SF</th>\n",
       "      <th>Total Bsmt SF</th>\n",
       "      <th>Bsmt Full Bath</th>\n",
       "      <th>Bsmt Half Bath</th>\n",
       "    </tr>\n",
       "  </thead>\n",
       "  <tbody>\n",
       "    <tr>\n",
       "      <th>66</th>\n",
       "      <td>Gd</td>\n",
       "      <td>TA</td>\n",
       "      <td>NaN</td>\n",
       "      <td>Unf</td>\n",
       "      <td>0.00</td>\n",
       "      <td>Unf</td>\n",
       "      <td>0.00</td>\n",
       "      <td>1595.00</td>\n",
       "      <td>1595.00</td>\n",
       "      <td>0.00</td>\n",
       "      <td>0.00</td>\n",
       "    </tr>\n",
       "    <tr>\n",
       "      <th>1796</th>\n",
       "      <td>Gd</td>\n",
       "      <td>TA</td>\n",
       "      <td>NaN</td>\n",
       "      <td>Unf</td>\n",
       "      <td>0.00</td>\n",
       "      <td>Unf</td>\n",
       "      <td>0.00</td>\n",
       "      <td>725.00</td>\n",
       "      <td>725.00</td>\n",
       "      <td>0.00</td>\n",
       "      <td>0.00</td>\n",
       "    </tr>\n",
       "    <tr>\n",
       "      <th>2779</th>\n",
       "      <td>Gd</td>\n",
       "      <td>TA</td>\n",
       "      <td>NaN</td>\n",
       "      <td>Unf</td>\n",
       "      <td>0.00</td>\n",
       "      <td>Unf</td>\n",
       "      <td>0.00</td>\n",
       "      <td>936.00</td>\n",
       "      <td>936.00</td>\n",
       "      <td>0.00</td>\n",
       "      <td>0.00</td>\n",
       "    </tr>\n",
       "  </tbody>\n",
       "</table>\n",
       "</div>"
      ],
      "text/plain": [
       "     Bsmt Qual Bsmt Cond Bsmt Exposure BsmtFin Type 1         BsmtFin SF 1  \\\n",
       "66          Gd        TA           NaN            Unf                 0.00   \n",
       "1796        Gd        TA           NaN            Unf                 0.00   \n",
       "2779        Gd        TA           NaN            Unf                 0.00   \n",
       "\n",
       "     BsmtFin Type 2         BsmtFin SF 2          Bsmt Unf SF  \\\n",
       "66              Unf                 0.00              1595.00   \n",
       "1796            Unf                 0.00               725.00   \n",
       "2779            Unf                 0.00               936.00   \n",
       "\n",
       "            Total Bsmt SF       Bsmt Full Bath       Bsmt Half Bath  \n",
       "66                1595.00                 0.00                 0.00  \n",
       "1796               725.00                 0.00                 0.00  \n",
       "2779               936.00                 0.00                 0.00  "
      ]
     },
     "execution_count": 17,
     "metadata": {},
     "output_type": "execute_result"
    }
   ],
   "source": [
    "dataset[~pd.isna(dataset['Bsmt Cond']) & \n",
    "        pd.isna(dataset['Bsmt Exposure'])][bsmt_columns]"
   ]
  },
  {
   "cell_type": "markdown",
   "metadata": {
    "_uuid": "7d622db086e56442c6bb5a4b308e6487b29c55ee"
   },
   "source": [
    "We will fill in the missing values in `Bsmt Exposure` for these three rows with `\"No\"`. According to the dataset documentation, `\"No\"` for `Bsmt Exposure` means \"No Exposure\":"
   ]
  },
  {
   "cell_type": "markdown",
   "metadata": {
    "_uuid": "ade37df141a150e5a443f4e84046412ba76ec841"
   },
   "source": [
    "Let's now take a look at the row where `BsmtFin Type 2` is null while `BsmtFin Type 1`, `Bsmt Qual`, and `Bsmt Cond` are not null:"
   ]
  },
  {
   "cell_type": "code",
   "execution_count": 18,
   "metadata": {
    "_uuid": "c898d81c3349d8a47fa331de6015f4c00135fcf6",
    "tags": [
     "hideOutput"
    ]
   },
   "outputs": [
    {
     "data": {
      "text/html": [
       "<div>\n",
       "<style scoped>\n",
       "    .dataframe tbody tr th:only-of-type {\n",
       "        vertical-align: middle;\n",
       "    }\n",
       "\n",
       "    .dataframe tbody tr th {\n",
       "        vertical-align: top;\n",
       "    }\n",
       "\n",
       "    .dataframe thead th {\n",
       "        text-align: right;\n",
       "    }\n",
       "</style>\n",
       "<table border=\"1\" class=\"dataframe\">\n",
       "  <thead>\n",
       "    <tr style=\"text-align: right;\">\n",
       "      <th></th>\n",
       "      <th>Bsmt Qual</th>\n",
       "      <th>Bsmt Cond</th>\n",
       "      <th>Bsmt Exposure</th>\n",
       "      <th>BsmtFin Type 1</th>\n",
       "      <th>BsmtFin SF 1</th>\n",
       "      <th>BsmtFin Type 2</th>\n",
       "      <th>BsmtFin SF 2</th>\n",
       "      <th>Bsmt Unf SF</th>\n",
       "      <th>Total Bsmt SF</th>\n",
       "      <th>Bsmt Full Bath</th>\n",
       "      <th>Bsmt Half Bath</th>\n",
       "    </tr>\n",
       "  </thead>\n",
       "  <tbody>\n",
       "    <tr>\n",
       "      <th>444</th>\n",
       "      <td>Gd</td>\n",
       "      <td>TA</td>\n",
       "      <td>No</td>\n",
       "      <td>GLQ</td>\n",
       "      <td>1124.00</td>\n",
       "      <td>NaN</td>\n",
       "      <td>479.00</td>\n",
       "      <td>1603.00</td>\n",
       "      <td>3206.00</td>\n",
       "      <td>1.00</td>\n",
       "      <td>0.00</td>\n",
       "    </tr>\n",
       "  </tbody>\n",
       "</table>\n",
       "</div>"
      ],
      "text/plain": [
       "    Bsmt Qual Bsmt Cond Bsmt Exposure BsmtFin Type 1         BsmtFin SF 1  \\\n",
       "444        Gd        TA            No            GLQ              1124.00   \n",
       "\n",
       "    BsmtFin Type 2         BsmtFin SF 2          Bsmt Unf SF  \\\n",
       "444            NaN               479.00              1603.00   \n",
       "\n",
       "           Total Bsmt SF       Bsmt Full Bath       Bsmt Half Bath  \n",
       "444              3206.00                 1.00                 0.00  "
      ]
     },
     "execution_count": 18,
     "metadata": {},
     "output_type": "execute_result"
    }
   ],
   "source": [
    "dataset[~pd.isna(dataset['Bsmt Cond']) & \n",
    "        pd.isna(dataset['BsmtFin Type 2'])][bsmt_columns]"
   ]
  },
  {
   "cell_type": "markdown",
   "metadata": {
    "_uuid": "585eaff7947c260ea583be47570f7d0e59a9b81b"
   },
   "source": [
    "We will fill in the missing value in `BsmtFin Type 2` for this row with `\"Unf\"`. According to the dataset documentation, `\"Unf\"` for `BsmtFin Type 2` means \"Unfinished\":"
   ]
  },
  {
   "cell_type": "code",
   "execution_count": 19,
   "metadata": {
    "_uuid": "92ffa151620d86a5fae901279d14002447a1b3ac"
   },
   "outputs": [],
   "source": [
    "for col in [\"Bsmt Half Bath\", \"Bsmt Full Bath\", \"Total Bsmt SF\", \n",
    "            \"Bsmt Unf SF\", \"BsmtFin SF 2\", \"BsmtFin SF 1\"]:\n",
    "    dataset[col].fillna(0, inplace=True)\n",
    "\n",
    "dataset.loc[~pd.isna(dataset['Bsmt Cond']) & \n",
    "            pd.isna(dataset['Bsmt Exposure']), \"Bsmt Exposure\"] = \"No\"\n",
    "dataset.loc[~pd.isna(dataset['Bsmt Cond']) & \n",
    "            pd.isna(dataset['BsmtFin Type 2']), \"BsmtFin Type 2\"] = \"Unf\"\n",
    "\n",
    "for col in [\"Bsmt Exposure\", \"BsmtFin Type 2\", \n",
    "            \"BsmtFin Type 1\", \"Bsmt Qual\", \"Bsmt Cond\"]:\n",
    "    dataset[col].fillna(\"No Basement\", inplace=True)"
   ]
  },
  {
   "cell_type": "markdown",
   "metadata": {
    "_uuid": "2d91aa040698fc3ce5a48d5411ad867c7b296090"
   },
   "source": [
    "##### Mas Vnr Area and Mas Vnr Type\n",
    "\n",
    "Each of these two columns have 23 missing values. We will fill in these missing values with `\"None\"` for `Mas Vnr Type` and with 0 for `Mas Vnr Area`. We use `\"None\"` for `Mas Vnr Type` because in the dataset documentation, `\"None\"` for `Mas Vnr Type` means \"None\" (i.e. no masonry veneer):"
   ]
  },
  {
   "cell_type": "code",
   "execution_count": 20,
   "metadata": {
    "_uuid": "07eabe20173f0f9f216c5d2e133d2a2e6aa80774"
   },
   "outputs": [],
   "source": [
    "dataset['Mas Vnr Area'].fillna(0, inplace=True)\n",
    "dataset['Mas Vnr Type'].fillna(\"None\", inplace=True)"
   ]
  },
  {
   "cell_type": "markdown",
   "metadata": {
    "_uuid": "6c7ae9115c4e35e6079c0837193d8917390cebb1"
   },
   "source": [
    "##### Electrical\n",
    "\n",
    "This column has one missing value. We will fill in this value with the mode of this column:"
   ]
  },
  {
   "cell_type": "code",
   "execution_count": 21,
   "metadata": {
    "_uuid": "f5a486a6a785056a5995bd05a0ee03ef6b86e71a"
   },
   "outputs": [],
   "source": [
    "dataset['Electrical'].fillna(dataset['Electrical'].mode()[0], inplace=True)"
   ]
  },
  {
   "cell_type": "markdown",
   "metadata": {
    "_uuid": "323b1534d6787951817bdd0da93ef2ef3fe355ea"
   },
   "source": [
    "Now let's check if there is any remaining missing value in our dataset:"
   ]
  },
  {
   "cell_type": "code",
   "execution_count": 22,
   "metadata": {
    "_uuid": "b369ecbe67d774cfcc0e716a9315e1b88f142da6"
   },
   "outputs": [
    {
     "data": {
      "text/plain": [
       "0"
      ]
     },
     "execution_count": 22,
     "metadata": {},
     "output_type": "execute_result"
    }
   ],
   "source": [
    "dataset.isna().values.sum()"
   ]
  },
  {
   "cell_type": "markdown",
   "metadata": {
    "_uuid": "f64babdf993e3133d8530a04e1683bd4126b9775"
   },
   "source": [
    "This means that our dataset is now complete; it doesn't contain any missing value anymore.\n",
    "\n",
    "### Outlier Removal\n",
    "\n",
    "In the paper in which our dataset was introduced by De Cock (2011), the author states that there are five unusual values and outliers in the dataset, and encourages the removal of these outliars. He suggested plotting `SalePrice` against `Gr Liv Area` to spot the outliers. We will do that now:"
   ]
  },
  {
   "cell_type": "code",
   "execution_count": 23,
   "metadata": {
    "_uuid": "0bb0de396732fb5c7f1adebf26a21efaf251145f"
   },
   "outputs": [
    {
     "data": {
      "image/png": "[encoded data removed]",
      "text/plain": [
       "<Figure size 432x288 with 1 Axes>"
      ]
     },
     "metadata": {
      "needs_background": "light"
     },
     "output_type": "display_data"
    }
   ],
   "source": [
    "plt.scatter(x=dataset['Gr Liv Area'], y=dataset['SalePrice'], \n",
    "            color=\"orange\", edgecolors=\"#000000\", linewidths=0.5);\n",
    "plt.xlabel(\"Gr Liv Area\"); plt.ylabel(\"SalePrice\");"
   ]
  },
  {
   "cell_type": "markdown",
   "metadata": {
    "_uuid": "03d7687660d641769d6b1a62b8116130cadb881a"
   },
   "source": [
    "We can clearly see the five values meant by the authour in the plot above. Now, we will remove them from our dataset. We can do so by keeping data points that have `Gr Liv Area` less than 4,000. But first we take a look at the dataset rows that correspond to these unusual values:"
   ]
  },
  {
   "cell_type": "code",
   "execution_count": 24,
   "metadata": {
    "_uuid": "224b23eb7f6937e14923305b33117327861b47fb",
    "tags": [
     "hideOutput"
    ]
   },
   "outputs": [
    {
     "data": {
      "text/html": [
       "<div>\n",
       "<style scoped>\n",
       "    .dataframe tbody tr th:only-of-type {\n",
       "        vertical-align: middle;\n",
       "    }\n",
       "\n",
       "    .dataframe tbody tr th {\n",
       "        vertical-align: top;\n",
       "    }\n",
       "\n",
       "    .dataframe thead th {\n",
       "        text-align: right;\n",
       "    }\n",
       "</style>\n",
       "<table border=\"1\" class=\"dataframe\">\n",
       "  <thead>\n",
       "    <tr style=\"text-align: right;\">\n",
       "      <th></th>\n",
       "      <th>Gr Liv Area</th>\n",
       "      <th>Sale Type</th>\n",
       "      <th>Sale Condition</th>\n",
       "      <th>SalePrice</th>\n",
       "    </tr>\n",
       "  </thead>\n",
       "  <tbody>\n",
       "    <tr>\n",
       "      <th>1498</th>\n",
       "      <td>5642</td>\n",
       "      <td>New</td>\n",
       "      <td>Partial</td>\n",
       "      <td>160000</td>\n",
       "    </tr>\n",
       "    <tr>\n",
       "      <th>1760</th>\n",
       "      <td>4476</td>\n",
       "      <td>WD</td>\n",
       "      <td>Abnorml</td>\n",
       "      <td>745000</td>\n",
       "    </tr>\n",
       "    <tr>\n",
       "      <th>1767</th>\n",
       "      <td>4316</td>\n",
       "      <td>WD</td>\n",
       "      <td>Normal</td>\n",
       "      <td>755000</td>\n",
       "    </tr>\n",
       "    <tr>\n",
       "      <th>2180</th>\n",
       "      <td>5095</td>\n",
       "      <td>New</td>\n",
       "      <td>Partial</td>\n",
       "      <td>183850</td>\n",
       "    </tr>\n",
       "    <tr>\n",
       "      <th>2181</th>\n",
       "      <td>4676</td>\n",
       "      <td>New</td>\n",
       "      <td>Partial</td>\n",
       "      <td>184750</td>\n",
       "    </tr>\n",
       "  </tbody>\n",
       "</table>\n",
       "</div>"
      ],
      "text/plain": [
       "      Gr Liv Area Sale Type Sale Condition  SalePrice\n",
       "1498         5642       New        Partial     160000\n",
       "1760         4476       WD         Abnorml     745000\n",
       "1767         4316       WD          Normal     755000\n",
       "2180         5095       New        Partial     183850\n",
       "2181         4676       New        Partial     184750"
      ]
     },
     "execution_count": 24,
     "metadata": {},
     "output_type": "execute_result"
    }
   ],
   "source": [
    "outlirt_columns = [\"Gr Liv Area\"] + \\\n",
    "                  [col for col in dataset.columns if \"Sale\" in col]\n",
    "dataset[dataset[\"Gr Liv Area\"] > 4000][outlirt_columns]"
   ]
  },
  {
   "cell_type": "markdown",
   "metadata": {
    "_uuid": "758786b8ea1bc351ed15feb69f99705ea4245f08"
   },
   "source": [
    "Now we remove them:"
   ]
  },
  {
   "cell_type": "code",
   "execution_count": 25,
   "metadata": {
    "_uuid": "6145c06916521ef9519a767925281e676de99cf1"
   },
   "outputs": [],
   "source": [
    "dataset = dataset[dataset[\"Gr Liv Area\"] < 4000]"
   ]
  },
  {
   "cell_type": "code",
   "execution_count": 26,
   "metadata": {
    "_uuid": "dc980de3e047ed5c386546bcccdeab7620eda87a"
   },
   "outputs": [
    {
     "data": {
      "image/png": "[encoded data removed]",
      "text/plain": [
       "<Figure size 432x288 with 1 Axes>"
      ]
     },
     "metadata": {
      "needs_background": "light"
     },
     "output_type": "display_data"
    }
   ],
   "source": [
    "plt.scatter(x=dataset['Gr Liv Area'], y=dataset['SalePrice'], \n",
    "            color=\"orange\", edgecolors=\"#000000\", linewidths=0.5);\n",
    "plt.xlabel(\"Gr Liv Area\"); plt.ylabel(\"SalePrice\");"
   ]
  },
  {
   "cell_type": "markdown",
   "metadata": {
    "_uuid": "46a681450d329d14e472ac57d4b6ad9ba4fab2e4"
   },
   "source": [
    "To avoid problems in modeling later, we will reset our dataset index after removing the outlier rows, so no gaps remain in our dataset index:"
   ]
  },
  {
   "cell_type": "code",
   "execution_count": 27,
   "metadata": {
    "_uuid": "ea60a12e0fa0dcf3298bd24a4493844f5808209f"
   },
   "outputs": [],
   "source": [
    "dataset.reset_index(drop=True, inplace=True)"
   ]
  },
  {
   "cell_type": "markdown",
   "metadata": {
    "_uuid": "15fe7543c5e369907836564b43b9624448e97a8e"
   },
   "source": [
    "### Deleting Some Unimportant Columns\n",
    "\n",
    "We will delete columns that are not useful in our analysis. The columns to be deleted are `Order` and `PID`:"
   ]
  },
  {
   "cell_type": "code",
   "execution_count": 28,
   "metadata": {
    "_uuid": "82a8ebcbff188d9009c41fe2bb2bad06bfb66325"
   },
   "outputs": [],
   "source": [
    "dataset.drop(['Order', 'PID'], axis=1, inplace=True)"
   ]
  },
  {
   "cell_type": "markdown",
   "metadata": {
    "_uuid": "206d656dc243b7155faa0ea1d27338bee26b36f8"
   },
   "source": [
    "# Exploratory Data Analysis <a name=\"eda\"></a>\n",
    "<hr>\n",
    "\n",
    "In this section, we will explore the data using visualizations. This will allow us to understand the data and the relationships between variables better, which will help us build a better model."
   ]
  },
  {
   "cell_type": "markdown",
   "metadata": {},
   "source": [
    "## Target Variable Distribution <a name=\"tvd\"></a>\n",
    "\n",
    "Our dataset contains a lot of variables, but the most important one for us to explore is the target variable. We need to understand its distribution. First, we start by plotting the violin plot for the target variable. The width of the violin represents the frequency. This means that if a violin is the widest between 300 and 400, then the area between 300 and 400 contains more data points than other areas:"
   ]
  },
  {
   "cell_type": "code",
   "execution_count": 29,
   "metadata": {
    "_uuid": "a5697a28ec50aa520b207fddd653364d0661c010"
   },
   "outputs": [
    {
     "data": {
      "image/png": "[encoded data removed]",
      "text/plain": [
       "<Figure size 432x288 with 1 Axes>"
      ]
     },
     "metadata": {
      "needs_background": "light"
     },
     "output_type": "display_data"
    }
   ],
   "source": [
    "sns.violinplot(x=dataset['SalePrice'], inner=\"quartile\", color=\"#36B37E\");"
   ]
  },
  {
   "cell_type": "markdown",
   "metadata": {
    "_uuid": "52a6b9ecc38d3b282b9dc5fcb3515f77a363a295"
   },
   "source": [
    "We can see from the plot that most house prices fall between 100,000 and 250,000. The dashed lines represent the locations of the three quartiles Q1, Q2 (the median), and Q3. Now let's see the box plot of `SalePrice`:"
   ]
  },
  {
   "cell_type": "code",
   "execution_count": 30,
   "metadata": {
    "_uuid": "3663ffe68c6e4384fea4414b813ae9075d0f2b4b"
   },
   "outputs": [
    {
     "data": {
      "image/png": "[encoded data removed]",
      "text/plain": [
       "<Figure size 432x288 with 1 Axes>"
      ]
     },
     "metadata": {
      "needs_background": "light"
     },
     "output_type": "display_data"
    }
   ],
   "source": [
    "sns.boxplot(dataset['SalePrice'], whis=10, color=\"#00B8D9\");"
   ]
  },
  {
   "cell_type": "markdown",
   "metadata": {
    "_uuid": "7b99f1646aefccfbb1501bf7176f4236f1b57069"
   },
   "source": [
    "This shows us the minimum and maximum values of `SalePrice`. It shows us also the three quartiles represented by the box and the vertical line inside of it. Lastly, we plot the histogram of the variable to see a more detailed view of the distribution:"
   ]
  },
  {
   "cell_type": "code",
   "execution_count": 31,
   "metadata": {
    "_uuid": "b04904c6303738fdaffc71eff84c87506987ccb9"
   },
   "outputs": [
    {
     "data": {
      "image/png": "[encoded data removed]",
      "text/plain": [
       "<Figure size 432x288 with 1 Axes>"
      ]
     },
     "metadata": {
      "needs_background": "light"
     },
     "output_type": "display_data"
    }
   ],
   "source": [
    "sns.distplot(dataset['SalePrice'], kde=False, \n",
    "             color=\"#172B4D\", hist_kws={\"alpha\": 0.8});\n",
    "plt.ylabel(\"Count\");"
   ]
  },
  {
   "cell_type": "markdown",
   "metadata": {
    "_uuid": "a78c4a7f9c4f1257e7353e46df371902c2c808bb"
   },
   "source": [
    "## Correlation Between Variables <a name=\"cbv\"></a>\n",
    "\n",
    "We want to see how the dataset variables are correlated with each other and how predictor variables are correlated with the target variable. For example, we would like to see how `Lot Area` and `SalePrice` are correlated: Do they increase and decrease together (positive correlation)? Does one of them increase when the other decrease or vice versa (negative correlation)? Or are they not correlated?\n",
    "\n",
    "Correlation is represented as a value between -1 and +1 where +1 denotes the highest positive correlation, -1 denotes the highest negative correlation, and 0 denotes that there is no correlation.\n",
    "\n",
    "We will show correlation between our dataset variables (numerical and boolean variables only) using a heatmap graph:"
   ]
  },
  {
   "cell_type": "code",
   "execution_count": 32,
   "metadata": {
    "_uuid": "ae332817bf98bb6379222fd48962ae4bf06b0efe"
   },
   "outputs": [
    {
     "data": {
      "image/png": "[encoded data removed]",
      "text/plain": [
       "<Figure size 864x648 with 2 Axes>"
      ]
     },
     "metadata": {
      "needs_background": "light"
     },
     "output_type": "display_data"
    }
   ],
   "source": [
    "fig, ax = plt.subplots(figsize=(12,9))\n",
    "sns.heatmap(dataset.corr(), ax=ax);"
   ]
  },
  {
   "cell_type": "markdown",
   "metadata": {
    "_uuid": "1a65e4553896ce0934afd9048bfe6f4df707f1b2"
   },
   "source": [
    "We can see that there are many correlated variables in our dataset. We notice that `Garage Cars` and `Garage Area` have high positive correlation which is reasonable because when the garage area increases, its car capacity increases too. We see also that `Gr Liv Area` and `TotRms AbvGrd` are highly positively correlated which also makes sense because when living area above ground increases, it is expected for the rooms above ground to increase too. \n",
    "\n",
    "Regarding negative correlation, we can see that `Bsmt Unf SF` is negatively correlated with `BsmtFin SF 1`, and that makes sense because when we have more unfinished area, this means that we have less finished area. We note also that `Bsmt Unf SF` is negatively correlated with `Bsmt Full Bath` which is reasonable too.\n",
    "\n",
    "Most importantly, we want to look at the predictor variables that are correlated with the target variable (`SalePrice`). By looking at the last row of the heatmap, we see that the target variable is highly positively correlated with `Overall Qual` and `Gr Liv Area`. We see also that the target variable is positively correlated with `Year Built`, `Year Remod/Add`, `Mas Vnr Area`, `Total Bsmt SF`, `1st Flr SF`, `Full Bath`, `Garage Cars`, and `Garage Area`.\n",
    "\n",
    "## Relatioships Between the Target Variable and Other Variables <a name=\"rbtv\"></a>\n",
    "\n",
    "#### High Positive Correlation\n",
    "\n",
    "Firstly, we want to visualize the relationships between the target variable and the variables that are highly and positively correlated with it, according to what we saw in the heatmap. Namely, these variables are `Overall Qual` and `Gr Liv Area`. We start with the relatioship between the target variable and `Overall Qual`, but before that, let's see the distribution of each of them. Let's start with the target variable `SalePrice`:"
   ]
  },
  {
   "cell_type": "code",
   "execution_count": 33,
   "metadata": {
    "_uuid": "a3a1b770d58bf617a9ea40ecfcbc2374ce3c952b"
   },
   "outputs": [
    {
     "data": {
      "image/png": "[encoded data removed]",
      "text/plain": [
       "<Figure size 432x288 with 1 Axes>"
      ]
     },
     "metadata": {
      "needs_background": "light"
     },
     "output_type": "display_data"
    }
   ],
   "source": [
    "sns.distplot(dataset['SalePrice'], kde=False, \n",
    "             color=\"#172B4D\", hist_kws={\"alpha\": 0.8});\n",
    "plt.ylabel(\"Count\");"
   ]
  },
  {
   "cell_type": "markdown",
   "metadata": {
    "_uuid": "b279ff06d34c54d65edb86f8bfc7bb0d7997838e"
   },
   "source": [
    "We can see that most house prices fall between 100,000 and 200,000. We see also that there is a number of expensive houses to the right of the plot. Now, we move to see the distribution of `Overall Qual` variable:"
   ]
  },
  {
   "cell_type": "code",
   "execution_count": 34,
   "metadata": {
    "_uuid": "84df4417919d94e26917cd227232258759b302ee"
   },
   "outputs": [
    {
     "data": {
      "image/png": "[encoded data removed]",
      "text/plain": [
       "<Figure size 432x288 with 1 Axes>"
      ]
     },
     "metadata": {
      "needs_background": "light"
     },
     "output_type": "display_data"
    }
   ],
   "source": [
    "sns.distplot(dataset['Overall Qual'], kde=False, \n",
    "             color=\"#172B4D\", hist_kws={\"alpha\": 1});\n",
    "plt.ylabel(\"Count\");"
   ]
  },
  {
   "cell_type": "markdown",
   "metadata": {
    "_uuid": "043624f25e69292db3deff06d7050ad89b5982c1"
   },
   "source": [
    "We see that `Overall Qual` takes an integer value between 1 and 10, and that most houses have an overall quality between 5 and 7. Now we plot the scatter plot of `SalePrice` and `Overall Qual` to see the relationship between them:"
   ]
  },
  {
   "cell_type": "code",
   "execution_count": 35,
   "metadata": {
    "_uuid": "7d2e0d90144d0577bd9d2532d4761fd05003e4a3"
   },
   "outputs": [
    {
     "data": {
      "image/png": "[encoded data removed]",
      "text/plain": [
       "<Figure size 432x288 with 1 Axes>"
      ]
     },
     "metadata": {
      "needs_background": "light"
     },
     "output_type": "display_data"
    }
   ],
   "source": [
    "plt.scatter(x=dataset['Overall Qual'], y=dataset['SalePrice'], \n",
    "            color=\"orange\", edgecolors=\"#000000\", linewidths=0.5);\n",
    "plt.xlabel(\"Overall Qual\"); plt.ylabel(\"SalePrice\");"
   ]
  },
  {
   "cell_type": "markdown",
   "metadata": {
    "_uuid": "9c4a19df9e1b050c7739989751da2af63c2586ee"
   },
   "source": [
    "We can see that they are truly positively correlated; generally, as the overall quality increases, the sale price increases too. This verfies what we got from the heatmap above.\n",
    "\n",
    "Now, we want to see the relationship between the target variable and `Gr Liv Area` variable which represents the living area above ground. Let us first see the distribution of `Gr Liv Area`:"
   ]
  },
  {
   "cell_type": "code",
   "execution_count": 36,
   "metadata": {
    "_uuid": "8c8da863eb37fe8935fa10dca30e3c708589c494"
   },
   "outputs": [
    {
     "data": {
      "image/png": "[encoded data removed]",
      "text/plain": [
       "<Figure size 432x288 with 1 Axes>"
      ]
     },
     "metadata": {
      "needs_background": "light"
     },
     "output_type": "display_data"
    }
   ],
   "source": [
    "sns.distplot(dataset['Gr Liv Area'], kde=False, \n",
    "             color=\"#172B4D\", hist_kws={\"alpha\": 0.8});\n",
    "plt.ylabel(\"Count\");"
   ]
  },
  {
   "cell_type": "markdown",
   "metadata": {
    "_uuid": "441af5298264acb68b1948a16d9571ccca7cab33"
   },
   "source": [
    "We can see that the above-ground living area falls approximately between 800 and 1800 ft<sup>2</sup>. Now, let us see the relationship between `Gr Liv Area` and the target variable:"
   ]
  },
  {
   "cell_type": "code",
   "execution_count": 37,
   "metadata": {
    "_uuid": "1b98deae85fbda7647c0928d1b32fe0490103ae0"
   },
   "outputs": [
    {
     "data": {
      "image/png": "[encoded data removed]",
      "text/plain": [
       "<Figure size 432x288 with 1 Axes>"
      ]
     },
     "metadata": {
      "needs_background": "light"
     },
     "output_type": "display_data"
    }
   ],
   "source": [
    "plt.scatter(x=dataset['Gr Liv Area'], y=dataset['SalePrice'], \n",
    "            color=\"orange\", edgecolors=\"#000000\", linewidths=0.5);\n",
    "plt.xlabel(\"Gr Liv Area\"); plt.ylabel(\"SalePrice\");"
   ]
  },
  {
   "cell_type": "markdown",
   "metadata": {
    "_uuid": "0fdb4db087b249dd18e4bb5c72bc8c6d4b0e3e3a"
   },
   "source": [
    "The scatter plot above shows clearly the strong positive correlation between `Gr Liv Area` and `SalePrice` verifying what we found with the heatmap.\n",
    "\n",
    "#### Moderate Positive Correlation\n",
    "\n",
    "Next, we want to visualize the relationship between the target variable and the variables that are positively correlated with it, but the correlation is not very strong. Namely, these variables are `Year Built`, `Year Remod/Add`, `Mas Vnr Area`, `Total Bsmt SF`, `1st Flr SF`, `Full Bath`, `Garage Cars`, and `Garage Area`. We start with the first four. Let us see the distribution of each of them:"
   ]
  },
  {
   "cell_type": "code",
   "execution_count": 38,
   "metadata": {
    "_uuid": "0b6dda485f5342cb0fa5e2df0b53ce36da6a40ec"
   },
   "outputs": [
    {
     "data": {
      "image/png": "[encoded data removed]",
      "text/plain": [
       "<Figure size 1296x360 with 4 Axes>"
      ]
     },
     "metadata": {
      "needs_background": "light"
     },
     "output_type": "display_data"
    }
   ],
   "source": [
    "fig, axes = plt.subplots(1, 4, figsize=(18,5))\n",
    "fig.subplots_adjust(hspace=0.5, wspace=0.6)\n",
    "for ax, v in zip(axes.flat, [\"Year Built\", \"Year Remod/Add\", \n",
    "                             \"Mas Vnr Area\", \"Total Bsmt SF\"]):\n",
    "    sns.distplot(dataset[v], kde=False, color=\"#172B4D\", \n",
    "                 hist_kws={\"alpha\": 0.8}, ax=ax)\n",
    "    ax.set(ylabel=\"Count\");"
   ]
  },
  {
   "cell_type": "markdown",
   "metadata": {
    "_uuid": "2fecabca761e2f746e8cb0f1835e0da3be65a82e"
   },
   "source": [
    "Now let us see their relationships with the target variable using scatter plots:"
   ]
  },
  {
   "cell_type": "code",
   "execution_count": 39,
   "metadata": {
    "_uuid": "9632da7928d5b04a3c7ee421c910384809609d5d"
   },
   "outputs": [
    {
     "data": {
      "image/png": "[encoded data removed]",
      "text/plain": [
       "<Figure size 720x180 with 4 Axes>"
      ]
     },
     "metadata": {
      "needs_background": "light"
     },
     "output_type": "display_data"
    }
   ],
   "source": [
    "x_vars = [\"Year Built\", \"Year Remod/Add\", \"Mas Vnr Area\", \"Total Bsmt SF\"]\n",
    "g = sns.PairGrid(dataset, y_vars=[\"SalePrice\"], x_vars=x_vars);\n",
    "g.map(plt.scatter, color=\"orange\", edgecolors=\"#000000\", linewidths=0.5);"
   ]
  },
  {
   "cell_type": "markdown",
   "metadata": {
    "_uuid": "a34cb6a43901e4d3b1edb6e86aef451a33172640"
   },
   "source": [
    "Next, we move to the last four. Let us see the distribution of each of them:"
   ]
  },
  {
   "cell_type": "code",
   "execution_count": 40,
   "metadata": {
    "_uuid": "24b97613ca4a64bd2996ba3f08b148147b626aa4"
   },
   "outputs": [
    {
     "data": {
      "image/png": "[encoded data removed]",
      "text/plain": [
       "<Figure size 1296x360 with 4 Axes>"
      ]
     },
     "metadata": {
      "needs_background": "light"
     },
     "output_type": "display_data"
    }
   ],
   "source": [
    "fig, axes = plt.subplots(1, 4, figsize=(18,5))\n",
    "fig.subplots_adjust(hspace=0.5, wspace=0.6)\n",
    "for ax, v in zip(axes.flat, [\"1st Flr SF\", \"Full Bath\", \n",
    "                             \"Garage Cars\", \"Garage Area\"]):\n",
    "    sns.distplot(dataset[v], kde=False, color=\"#172B4D\", \n",
    "                 hist_kws={\"alpha\": 0.8}, ax=ax);\n",
    "    ax.set(ylabel=\"Count\");"
   ]
  },
  {
   "cell_type": "markdown",
   "metadata": {
    "_uuid": "d2794a272a998912c8a3c3736f811bd58617a8a3"
   },
   "source": [
    "And now let us see their relationships with the target variable:"
   ]
  },
  {
   "cell_type": "code",
   "execution_count": 41,
   "metadata": {
    "_uuid": "8d98014ec8ff6ab86dee7fffb7093649b1f4b702"
   },
   "outputs": [
    {
     "data": {
      "image/png": "[encoded data removed]",
      "text/plain": [
       "<Figure size 720x180 with 4 Axes>"
      ]
     },
     "metadata": {
      "needs_background": "light"
     },
     "output_type": "display_data"
    }
   ],
   "source": [
    "x_vars = [\"1st Flr SF\", \"Full Bath\", \"Garage Cars\", \"Garage Area\"]\n",
    "g = sns.PairGrid(dataset, y_vars=[\"SalePrice\"], x_vars=x_vars);\n",
    "g.map(plt.scatter, color=\"orange\", edgecolors=\"#000000\", linewidths=0.5);"
   ]
  },
  {
   "cell_type": "markdown",
   "metadata": {
    "_uuid": "b3940c5357b6b2884a7f3d3a93e649bbcbc135f4"
   },
   "source": [
    "From the plots above, we can see that these eight variables are truly positively correlated with the target variable. However, it's apparent that they are not as highly correlated as `Overall Qual` and `Gr Liv Area`.\n",
    "\n",
    "## Relationship in-between Predictor Variables <a name=\"rbpv\"></a>\n",
    "\n",
    "#### Positive Correlation\n",
    "\n",
    "Apart from the target variable, when we plotted the heatmap, we discovered a high positive correlation between `Garage Cars` and `Garage Area` and between `Gr Liv Area` and `TotRms AbvGrd`. We want to visualize these correlations also. We've already seen the distribution of each of them except for `TotRms AbvGrd`. Let us see the distribution of `TotRms AbvGrd` first:"
   ]
  },
  {
   "cell_type": "code",
   "execution_count": 42,
   "metadata": {
    "_uuid": "911dc5b15d51ac4a2da9310229f32893cd808534"
   },
   "outputs": [
    {
     "data": {
      "image/png": "[encoded data removed]",
      "text/plain": [
       "<Figure size 432x288 with 1 Axes>"
      ]
     },
     "metadata": {
      "needs_background": "light"
     },
     "output_type": "display_data"
    }
   ],
   "source": [
    "sns.distplot(dataset['TotRms AbvGrd'], kde=False, \n",
    "             color=\"#172B4D\", hist_kws={\"alpha\": 0.8});\n",
    "plt.ylabel(\"Count\");"
   ]
  },
  {
   "cell_type": "markdown",
   "metadata": {
    "_uuid": "6600fde357db9c4e87766ca0cdd5583dc580bb87"
   },
   "source": [
    "Now, we visualize the relationship between `Garage Cars` and `Garage Area` and between `Gr Liv Area` and `TotRms AbvGrd`:"
   ]
  },
  {
   "cell_type": "code",
   "execution_count": 43,
   "metadata": {
    "_uuid": "15add0d24a55bf4be30a9b4cd6c6fedd2b02c9b6"
   },
   "outputs": [
    {
     "data": {
      "image/png": "[encoded data removed]",
      "text/plain": [
       "<Figure size 1080x360 with 4 Axes>"
      ]
     },
     "metadata": {
      "needs_background": "light"
     },
     "output_type": "display_data"
    }
   ],
   "source": [
    "plt.rc(\"grid\", linewidth=0.05)\n",
    "fig, axes = plt.subplots(1, 2, figsize=(15,5))\n",
    "fig.subplots_adjust(hspace=0.5, wspace=0.4)\n",
    "h1 = axes[0].hist2d(dataset[\"Garage Cars\"], \n",
    "                    dataset[\"Garage Area\"],\n",
    "                    cmap=\"viridis\");\n",
    "axes[0].set(xlabel=\"Garage Cars\", ylabel=\"Garage Area\")\n",
    "plt.colorbar(h1[3], ax=axes[0]);\n",
    "h2 = axes[1].hist2d(dataset[\"Gr Liv Area\"], \n",
    "                    dataset[\"TotRms AbvGrd\"],\n",
    "                    cmap=\"viridis\");\n",
    "axes[1].set(xlabel=\"Gr Liv Area\", ylabel=\"TotRms AbvGrd\")\n",
    "plt.colorbar(h1[3], ax=axes[1]);\n",
    "plt.rc(\"grid\", linewidth=0.25)"
   ]
  },
  {
   "cell_type": "markdown",
   "metadata": {
    "_uuid": "550f8b2ea62a21e8171398056e24c80b94283b91"
   },
   "source": [
    "We can see the strong correlation between each pair. For `Garage Cars` and `Garage Area`, we see that the highest concentration of data is when `Garage Cars` is 2 and `Garage Area` is approximately between 450 and 600 ft<sup>2</sup>. For `Gr Liv Area` and `TotRms AbvGrd`, we notice that the highest concentration is when `Garage Liv Area` is roughly between 800 and 2000 ft<sup>2</sup> and `TotRms AbvGrd` is 6.\n",
    "\n",
    "#### Negative Correlation\n",
    "\n",
    "When we plotted the heatmap, we also discovered a significant negative correlation between `Bsmt Unf SF` and `BsmtFin SF 1`, and between `Bsmt Unf SF` and `Bsmt Full Bath`. We also want to visualize these correlations. Let us see the distribution of these variables first:"
   ]
  },
  {
   "cell_type": "code",
   "execution_count": 44,
   "metadata": {
    "_uuid": "c55e8e2c5b8b4e2dac57cdef03dea9b16810da20"
   },
   "outputs": [
    {
     "data": {
      "image/png": "[encoded data removed]",
      "text/plain": [
       "<Figure size 1152x360 with 3 Axes>"
      ]
     },
     "metadata": {
      "needs_background": "light"
     },
     "output_type": "display_data"
    }
   ],
   "source": [
    "fig, axes = plt.subplots(1, 3, figsize=(16,5))\n",
    "fig.subplots_adjust(hspace=0.5, wspace=0.6)\n",
    "for ax, v in zip(axes.flat, [\"Bsmt Unf SF\", \"BsmtFin SF 1\", \"Bsmt Full Bath\"]):\n",
    "    sns.distplot(dataset[v], kde=False, color=\"#172B4D\", \n",
    "                 hist_kws={\"alpha\": 0.8}, ax=ax);\n",
    "    ax.set(ylabel=\"Count\")"
   ]
  },
  {
   "cell_type": "markdown",
   "metadata": {
    "_uuid": "9e1900e16e157a658aed99daaa89cfc139d97bff"
   },
   "source": [
    "Now, we visualize the relationship between each pair using scatter plots:"
   ]
  },
  {
   "cell_type": "code",
   "execution_count": 45,
   "metadata": {
    "_uuid": "989912ce950104476bb532d809077e7ad80de540"
   },
   "outputs": [
    {
     "data": {
      "image/png": "[encoded data removed]",
      "text/plain": [
       "<Figure size 1080x360 with 2 Axes>"
      ]
     },
     "metadata": {
      "needs_background": "light"
     },
     "output_type": "display_data"
    }
   ],
   "source": [
    "fig, axes = plt.subplots(1, 2, figsize=(15,5))\n",
    "fig.subplots_adjust(hspace=0.5, wspace=0.4)\n",
    "axes[0].scatter(dataset[\"Bsmt Unf SF\"], dataset[\"BsmtFin SF 1\"],\n",
    "                color=\"orange\", edgecolors=\"#000000\", linewidths=0.5);\n",
    "axes[0].set(xlabel=\"Bsmt Unf SF\", ylabel=\"BsmtFin SF 1\");\n",
    "axes[1].scatter(dataset[\"Bsmt Unf SF\"], dataset[\"Bsmt Full Bath\"],\n",
    "                color=\"orange\", edgecolors=\"#000000\", linewidths=0.5);\n",
    "axes[1].set(xlabel=\"Bsmt Unf SF\", ylabel=\"Bsmt Full Bath\");"
   ]
  },
  {
   "cell_type": "markdown",
   "metadata": {
    "_uuid": "1f81cd144b6004d83c62f48b5f27af059aa697f8"
   },
   "source": [
    "From the plots, we can see the negative correlation between each pair of these variables.\n",
    "\n",
    "We will use the information we got from exploratory data analysis in the next section for feature engineering.\n",
    "\n",
    "# Feature Engineering <a name=\"fe\"></a>\n",
    "<hr>\n",
    "\n",
    "In this section, we will use the insights from Exploratory Data Analysis section to engineer the features of our dataset.\n",
    "\n",
    "## Creating New Derived Features <a name=\"cndf\"></a>\n",
    "\n",
    "Firstly, we noticed a high positive correlation between the target variable `SalePrice` and each of `Overall Qual` and `Gr Liv Area`. This gives an indication that the latter two features are very important in predicting the sale price. So, we will create polynomial features out of these features: For each one of these features, we will derive a feature whose values are the squares of original values, and another feature whose values are the cubes of original values. Moreover, we will create a feature whose values are the product of our two features values:"
   ]
  },
  {
   "cell_type": "code",
   "execution_count": 46,
   "metadata": {
    "_uuid": "b419a2961e1a585156b7e34031cac0e0a9241da4",
    "scrolled": true
   },
   "outputs": [],
   "source": [
    "for f in [\"Overall Qual\", \"Gr Liv Area\"]:\n",
    "    dataset[f + \"_p2\"] = dataset[f] ** 2\n",
    "    dataset[f + \"_p3\"] = dataset[f] ** 3\n",
    "dataset[\"OverallQual_GrLivArea\"] = \\\n",
    "    dataset[\"Overall Qual\"] * dataset[\"Gr Liv Area\"]"
   ]
  },
  {
   "cell_type": "markdown",
   "metadata": {
    "_uuid": "50dddb04c99c085484d37d7434be04ce70ae8b7e"
   },
   "source": [
    "Also, we noticed that there are some predictor features that are highly correlated with each other. To avoid the [Multicollinearity](https://en.wikipedia.org/wiki/Multicollinearity) problem, we will delete one feature from each pair of highly correlated predictors. We have two pairs: the first consists of `Garage Cars` and `Garage Area`, and the other consists of `Gr Liv Area` and `TotRms AbvGrd`. For the first pair, we will remove `Garage Cars` feature; from the second pair, we will remove `TotRms AbvGrd` feature:"
   ]
  },
  {
   "cell_type": "code",
   "execution_count": 47,
   "metadata": {
    "_uuid": "a19398024f090d428524c7beb7e1ffcd8366fb87"
   },
   "outputs": [],
   "source": [
    "dataset.drop([\"Garage Cars\", \"TotRms AbvGrd\"], axis=1, inplace=True)"
   ]
  },
  {
   "cell_type": "markdown",
   "metadata": {
    "_uuid": "fed4b782a9360bbeff2b219dcc51a5be65877208"
   },
   "source": [
    "## Dealing with Ordinal Variables <a name=\"dov\"></a>\n",
    "\n",
    "There are some ordinal features in our dataset. For example, the `Bsmt Cond` feature has the following possible values: "
   ]
  },
  {
   "cell_type": "code",
   "execution_count": 48,
   "metadata": {
    "_uuid": "3afc262294e76a56a35c1fed35c9e336e09d56e1"
   },
   "outputs": [
    {
     "name": "stdout",
     "output_type": "stream",
     "text": [
      "Unique values in 'Bsmt Cond' column:\n",
      "['Gd', 'TA', 'No Basement', 'Po', 'Fa', 'Ex']\n"
     ]
    }
   ],
   "source": [
    "print(\"Unique values in 'Bsmt Cond' column:\")\n",
    "print(dataset['Bsmt Cond'].unique().tolist())"
   ]
  },
  {
   "cell_type": "markdown",
   "metadata": {
    "_uuid": "a1ffaee4d9d1451e8faf42628f62e8661b285134"
   },
   "source": [
    "Where \"Gd\" means \"Good\", \"TA\" means \"Typical\", \"Po\" means \"Poor\", \"Fa\" means \"Fair\", and \"Ex\" means \"Excellent\" according to the dataset documentation. But the problem is that machine learning models will not know that this feature represents a ranking; it will be treated as other categorical features. So to solve this issue, we will map each one of the possible values of this feature to a number. We will map `\"No Basement\"` to 0, `\"Po\"` to 1, `\"Fa\"` to 2, `\"TA\"` to 3, `\"Gd\"` to 4, and `\"Ex\"` to 5.\n",
    "\n",
    "The ordinal features in the dataset are: `Exter Qual`, `Exter Cond`, `Bsmt Qual`, `Bsmt Cond`, `Bsmt Exposure`, `BsmtFin Type 1`, `BsmtFin Type 2`, `Heating QC`, `Central Air`, `Kitchen Qual`, `Functional`, `Fireplace Qu`, `GarageFinish`, `Garage Qual`, `Garage Cond`, `Pool QC`, `Land Slope` and `Fence`. We will map the values of each of them to corresponding numbers as described for `Bsmt Cond` above and in accordance with the dataset documentation:"
   ]
  },
  {
   "cell_type": "code",
   "execution_count": 49,
   "metadata": {
    "_uuid": "77a0c5e2995206901b66ddd122091aa5077146c2"
   },
   "outputs": [],
   "source": [
    "mp = {'Ex':4,'Gd':3,'TA':2,'Fa':1,'Po':0}\n",
    "dataset['Exter Qual'] = dataset['Exter Qual'].map(mp)\n",
    "dataset['Exter Cond'] = dataset['Exter Cond'].map(mp)\n",
    "dataset['Heating QC'] = dataset['Heating QC'].map(mp)\n",
    "dataset['Kitchen Qual'] = dataset['Kitchen Qual'].map(mp)\n",
    "\n",
    "mp = {'Ex':5,'Gd':4,'TA':3,'Fa':2,'Po':1,'No Basement':0}\n",
    "dataset['Bsmt Qual'] = dataset['Bsmt Qual'].map(mp)\n",
    "dataset['Bsmt Cond'] = dataset['Bsmt Cond'].map(mp)\n",
    "dataset['Bsmt Exposure'] = dataset['Bsmt Exposure'].map(\n",
    "    {'Gd':4,'Av':3,'Mn':2,'No':1,'No Basement':0})\n",
    "\n",
    "mp = {'GLQ':6,'ALQ':5,'BLQ':4,'Rec':3,'LwQ':2,'Unf':1,'No Basement':0}\n",
    "dataset['BsmtFin Type 1'] = dataset['BsmtFin Type 1'].map(mp)\n",
    "dataset['BsmtFin Type 2'] = dataset['BsmtFin Type 2'].map(mp)\n",
    "\n",
    "dataset['Central Air'] = dataset['Central Air'].map({'Y':1,'N':0})\n",
    "dataset['Functional'] = dataset['Functional'].map(\n",
    "    {'Typ':7,'Min1':6,'Min2':5,'Mod':4,'Maj1':3,\n",
    "     'Maj2':2,'Sev':1,'Sal':0})\n",
    "dataset['Fireplace Qu'] = dataset['Fireplace Qu'].map(\n",
    "    {'Ex':5,'Gd':4,'TA':3,'Fa':2,'Po':1,'No Fireplace':0})\n",
    "dataset['Garage Finish'] = dataset['Garage Finish'].map(\n",
    "    {'Fin':3,'RFn':2,'Unf':1,'No Garage':0})\n",
    "dataset['Garage Qual'] = dataset['Garage Qual'].map(\n",
    "    {'Ex':5,'Gd':4,'TA':3,'Fa':2,'Po':1,'No Garage':0})\n",
    "dataset['Garage Cond'] = dataset['Garage Cond'].map(\n",
    "    {'Ex':5,'Gd':4,'TA':3,'Fa':2,'Po':1,'No Garage':0})\n",
    "dataset['Pool QC'] = dataset['Pool QC'].map(\n",
    "    {'Ex':4,'Gd':3,'TA':2,'Fa':1,'No Pool':0})\n",
    "dataset['Land Slope'] = dataset['Land Slope'].map(\n",
    "    {'Sev': 2, 'Mod': 1, 'Gtl': 0})\n",
    "dataset['Fence'] = dataset['Fence'].map(\n",
    "    {'GdPrv':4,'MnPrv':3,'GdWo':2,'MnWw':1,'No Fence':0})"
   ]
  },
  {
   "cell_type": "markdown",
   "metadata": {
    "_uuid": "aa8f8ae03f9027fb79f87a55ce05750164ac7794"
   },
   "source": [
    "## One-Hot Encoding For Categorical Features <a name=\"ohe\"></a>\n",
    "\n",
    "Machine learning models accept only numbers as input, and since our dataset contains categorical features, we need to encode them in order for our dataset to be suitable for modeling. We will encode our categorical features using one-hot encoding technique which transforms the categorical variable into a number of binary variables based on the number of unique categories in the categorical variable; each of the resulting binary variables has only 0 and 1 as its possible values. Pandas package provides a convenient function `get_dummies()` that can be used for performing one-hot encoding on our dataset.\n",
    "\n",
    "To see what will happen to our dataset, let us take for example the variable `Paved Drive` which indicates how the driveway is paved. It has three possible values: `Y` which means for \"Paved\", `P` which means \"Partial Pavement\", and `N` which means \"Dirt/Gravel\". Let us take a look at `Paved Drive` value for the first few rows in our dataset:"
   ]
  },
  {
   "cell_type": "code",
   "execution_count": 50,
   "metadata": {
    "_uuid": "9dad5b17714b5ed742efaba2b59f77f8c21ef229",
    "tags": [
     "hideOutput"
    ]
   },
   "outputs": [
    {
     "data": {
      "text/html": [
       "<div>\n",
       "<style scoped>\n",
       "    .dataframe tbody tr th:only-of-type {\n",
       "        vertical-align: middle;\n",
       "    }\n",
       "\n",
       "    .dataframe tbody tr th {\n",
       "        vertical-align: top;\n",
       "    }\n",
       "\n",
       "    .dataframe thead th {\n",
       "        text-align: right;\n",
       "    }\n",
       "</style>\n",
       "<table border=\"1\" class=\"dataframe\">\n",
       "  <thead>\n",
       "    <tr style=\"text-align: right;\">\n",
       "      <th></th>\n",
       "      <th>Paved Drive</th>\n",
       "    </tr>\n",
       "  </thead>\n",
       "  <tbody>\n",
       "    <tr>\n",
       "      <th>0</th>\n",
       "      <td>P</td>\n",
       "    </tr>\n",
       "    <tr>\n",
       "      <th>1</th>\n",
       "      <td>Y</td>\n",
       "    </tr>\n",
       "    <tr>\n",
       "      <th>2</th>\n",
       "      <td>Y</td>\n",
       "    </tr>\n",
       "    <tr>\n",
       "      <th>3</th>\n",
       "      <td>Y</td>\n",
       "    </tr>\n",
       "    <tr>\n",
       "      <th>4</th>\n",
       "      <td>Y</td>\n",
       "    </tr>\n",
       "  </tbody>\n",
       "</table>\n",
       "</div>"
      ],
      "text/plain": [
       "  Paved Drive\n",
       "0           P\n",
       "1           Y\n",
       "2           Y\n",
       "3           Y\n",
       "4           Y"
      ]
     },
     "execution_count": 50,
     "metadata": {},
     "output_type": "execute_result"
    }
   ],
   "source": [
    "dataset[['Paved Drive']].head()"
   ]
  },
  {
   "cell_type": "markdown",
   "metadata": {
    "_uuid": "b424e43f7fed472583c61f1db40263dcebfa41cd"
   },
   "source": [
    "Now, we perform one-hot encoding:"
   ]
  },
  {
   "cell_type": "code",
   "execution_count": 51,
   "metadata": {
    "_uuid": "62c2f187d357530110b87504b7ebc2e88fe15e45"
   },
   "outputs": [],
   "source": [
    "dataset = pd.get_dummies(dataset)"
   ]
  },
  {
   "cell_type": "markdown",
   "metadata": {
    "_uuid": "cf8b97a6c7a76c1efd86ffe2e9d3929bf0f3f5ce"
   },
   "source": [
    "Let us see what has happened to the `Paved Drive` variable by looking at the same rows above: "
   ]
  },
  {
   "cell_type": "code",
   "execution_count": 52,
   "metadata": {
    "_uuid": "f847bf3a7b4e6212263f4f6e148bbc9c81b4e18d",
    "tags": [
     "hideOutput"
    ]
   },
   "outputs": [
    {
     "data": {
      "text/html": [
       "<div>\n",
       "<style scoped>\n",
       "    .dataframe tbody tr th:only-of-type {\n",
       "        vertical-align: middle;\n",
       "    }\n",
       "\n",
       "    .dataframe tbody tr th {\n",
       "        vertical-align: top;\n",
       "    }\n",
       "\n",
       "    .dataframe thead th {\n",
       "        text-align: right;\n",
       "    }\n",
       "</style>\n",
       "<table border=\"1\" class=\"dataframe\">\n",
       "  <thead>\n",
       "    <tr style=\"text-align: right;\">\n",
       "      <th></th>\n",
       "      <th>Paved Drive_N</th>\n",
       "      <th>Paved Drive_P</th>\n",
       "      <th>Paved Drive_Y</th>\n",
       "    </tr>\n",
       "  </thead>\n",
       "  <tbody>\n",
       "    <tr>\n",
       "      <th>0</th>\n",
       "      <td>0</td>\n",
       "      <td>1</td>\n",
       "      <td>0</td>\n",
       "    </tr>\n",
       "    <tr>\n",
       "      <th>1</th>\n",
       "      <td>0</td>\n",
       "      <td>0</td>\n",
       "      <td>1</td>\n",
       "    </tr>\n",
       "    <tr>\n",
       "      <th>2</th>\n",
       "      <td>0</td>\n",
       "      <td>0</td>\n",
       "      <td>1</td>\n",
       "    </tr>\n",
       "    <tr>\n",
       "      <th>3</th>\n",
       "      <td>0</td>\n",
       "      <td>0</td>\n",
       "      <td>1</td>\n",
       "    </tr>\n",
       "    <tr>\n",
       "      <th>4</th>\n",
       "      <td>0</td>\n",
       "      <td>0</td>\n",
       "      <td>1</td>\n",
       "    </tr>\n",
       "  </tbody>\n",
       "</table>\n",
       "</div>"
      ],
      "text/plain": [
       "   Paved Drive_N  Paved Drive_P  Paved Drive_Y\n",
       "0              0              1              0\n",
       "1              0              0              1\n",
       "2              0              0              1\n",
       "3              0              0              1\n",
       "4              0              0              1"
      ]
     },
     "execution_count": 52,
     "metadata": {},
     "output_type": "execute_result"
    }
   ],
   "source": [
    "pavedDrive_oneHot = [c for c in dataset.columns if c.startswith(\"Paved\")]\n",
    "dataset[pavedDrive_oneHot].head()"
   ]
  },
  {
   "cell_type": "markdown",
   "metadata": {
    "_uuid": "c918b791753f031cd77c9948b1b46536b30c4328"
   },
   "source": [
    "We can see for example that a value of `P` in the original `Paved Drive` column is converted to 1 in `Paved Drive_P` and zeros in `Paved Drive_N` and `Paved Drive_Y` after one-hot encoding.\n",
    "\n",
    "All categorical column are converted in the same way.\n",
    "\n",
    "Now, after we have cleaned and prepared our dataset, it is ready for modeling.\n",
    "\n",
    "# Prediction Type and Modeling Techniques <a name=\"ptmt\"></a>\n",
    "<hr>\n",
    "\n",
    "In this section, we choose the type of machine learning prediction that is suitable for our problem. We want to determine if this is a regression problem or a classification problem. In this project, we want to predict the *price* of a house using given information about it. The price we want to predict is a continuous value; it can be any real number. This can be seen by looking at the target vatiable in our dataset `SalePrice`:"
   ]
  },
  {
   "cell_type": "code",
   "execution_count": 53,
   "metadata": {
    "_uuid": "a487ae5a7f91452c2a4922981e4046e998e9817c",
    "tags": [
     "hideOutput"
    ]
   },
   "outputs": [
    {
     "data": {
      "text/html": [
       "<div>\n",
       "<style scoped>\n",
       "    .dataframe tbody tr th:only-of-type {\n",
       "        vertical-align: middle;\n",
       "    }\n",
       "\n",
       "    .dataframe tbody tr th {\n",
       "        vertical-align: top;\n",
       "    }\n",
       "\n",
       "    .dataframe thead th {\n",
       "        text-align: right;\n",
       "    }\n",
       "</style>\n",
       "<table border=\"1\" class=\"dataframe\">\n",
       "  <thead>\n",
       "    <tr style=\"text-align: right;\">\n",
       "      <th></th>\n",
       "      <th>SalePrice</th>\n",
       "    </tr>\n",
       "  </thead>\n",
       "  <tbody>\n",
       "    <tr>\n",
       "      <th>0</th>\n",
       "      <td>215000</td>\n",
       "    </tr>\n",
       "    <tr>\n",
       "      <th>1</th>\n",
       "      <td>105000</td>\n",
       "    </tr>\n",
       "    <tr>\n",
       "      <th>2</th>\n",
       "      <td>172000</td>\n",
       "    </tr>\n",
       "    <tr>\n",
       "      <th>3</th>\n",
       "      <td>244000</td>\n",
       "    </tr>\n",
       "    <tr>\n",
       "      <th>4</th>\n",
       "      <td>189900</td>\n",
       "    </tr>\n",
       "  </tbody>\n",
       "</table>\n",
       "</div>"
      ],
      "text/plain": [
       "   SalePrice\n",
       "0     215000\n",
       "1     105000\n",
       "2     172000\n",
       "3     244000\n",
       "4     189900"
      ]
     },
     "execution_count": 53,
     "metadata": {},
     "output_type": "execute_result"
    }
   ],
   "source": [
    "dataset[['SalePrice']].head()"
   ]
  },
  {
   "cell_type": "markdown",
   "metadata": {
    "_uuid": "532b464138f76bb012b192d85ac360820b257cc9"
   },
   "source": [
    "That means that the prediction type that is appropriate to our problem is **regression**.\n",
    "\n",
    "Now we move to choose the modeling techniques we want to use. There are a lot of techniques available. However, most advanced techniques are beyond the scope of this project. We will test three linear regression models which will be variations that cover a simple linear regression as a baseline, adds polynomial effects, and uses a regularization technique and then choose the technique(s) that yield the best results. All models will use the same training and test splits and same cross-validation method called `GridSearchCV()`. The techniques that we will try are:\n",
    "\n",
    "#### 1. Ridge Regression\n",
    "\n",
    "This is a method of estimating the coefficients of multiple-regression models in scenarios where independent variables are highly correlated.\n",
    "\n",
    "#### 2. Lasso Regression\n",
    "\n",
    "This is a regression analysis method that performs both variable selection and regularization in order to enhance the prediction accuracy and interpretability of the resulting statistical model.\n",
    "\n",
    "#### 3. Elastic Net\n",
    "\n",
    "This is a regularized regression method that linearly combines the L1 and L2 penalties of the lasso and ridge methods.\n",
    "\n",
    "# Model Building and Evaluation <a name=\"mbe\"></a>\n",
    "<hr>\n",
    "\n",
    "In this part, we will build our prediction model. After we build the model, we will evaluate its performance and results.\n",
    "\n",
    "## Feature Scaling <a name=\"fs\"></a>\n",
    "\n",
    "In order to make all algorithms work properly with our data, we need to scale the features in our dataset. For that, we will use a helpful function named `StandardScaler()` from the popular Scikit-Learn Python package. This function standardizes features by subtracting the mean and scaling to unit variance. It works on each feature independently. For a value $x$ of some feature $F$, the `StandardScaler()` function performs the following operation:\n",
    "\n",
    "\\begin{equation*}\n",
    "z = \\frac{x - \\mu}{s}\n",
    "\\end{equation*}\n",
    "\n",
    "where $z$ is the result of scaling $x$, $\\mu$ is the mean of feature $F$, and $s$ is the standard deviation of $F$."
   ]
  },
  {
   "cell_type": "code",
   "execution_count": 54,
   "metadata": {
    "_uuid": "dc0bf6d4c20f53a5e1e53ae1712ae7376d8bbdd6"
   },
   "outputs": [],
   "source": [
    "scaler = StandardScaler()\n",
    "# We need to fit the scaler to our data before transformation\n",
    "dataset.loc[:, dataset.columns != 'SalePrice'] = scaler.fit_transform(\n",
    "    dataset.loc[:, dataset.columns != 'SalePrice'])"
   ]
  },
  {
   "cell_type": "markdown",
   "metadata": {
    "_uuid": "773780549319f11649c225ab855236c61f2c0377"
   },
   "source": [
    "## Splitting the Dataset <a name=\"std\"></a>\n",
    "\n",
    "As usual for supervised machine learning problems, we need a training dataset to train our model and a test dataset to evaluate the model. So we will split our dataset randomly into two parts, one for training and the other for testing. For that, we will use another function from Scikit-Learn called `train_test_split()`:"
   ]
  },
  {
   "cell_type": "code",
   "execution_count": 55,
   "metadata": {
    "_uuid": "f5fbe254e8925ef47851db2dbc7d33a99fdb2411"
   },
   "outputs": [],
   "source": [
    "X_train, X_test, y_train, y_test = train_test_split(\n",
    "    dataset.drop('SalePrice', axis=1), dataset[['SalePrice']], \n",
    "    test_size=0.25, random_state=3)"
   ]
  },
  {
   "cell_type": "markdown",
   "metadata": {
    "_uuid": "cbde0d327afab9970c8288a0752f08b9dd3be6a5"
   },
   "source": [
    "We specified the size of the test set to be 25% of the whole dataset. This leaves 75% for the training dataset. Now we have four subsets: `X_train`, `X_test`, `y_train`, and `y_test`. Later we will use `X_train` and `y_train` to train our model, and `X_test` and `y_test` to test and evaluate the model. `X_train` and `X_test` represent features (predictors); `y_train` and `y_test` represent the target. From now on, we will refer to `X_train` and `y_train` as the training dataset, and to `X_test` and `y_test` as the test dataset.\n",
    "\n",
    "## Modeling Approach <a name=\"ma\"></a>\n",
    "\n",
    "For each one of the algorithms mentioned in the previous section, we will follow these steps to build a model:\n",
    "\n",
    "- Search for an effective parameter combination for the algorithm.\n",
    "- Create a model using the found parameters.\n",
    "- Train (fit) the model on the training dataset.\n",
    "- Test the model on the test dataset and get the results.\n",
    "\n",
    "### Searching for Effective Parameters\n",
    "\n",
    "To find the best values for our parameters, we will examine many parameter combinations and choose the combination that gives the best score. Scikit-Learn provides a useful function for that purpose: `GridSearchCV()`. Sometimes, when the number of parameter combinations is large, `GridSearchCV()` can take very long time to run. In that case, in addition to `GridSearchCV()`, we can use `RandomizedSearchCV()` which is similar to `GridSearchCV()` but instead of using all parameter combinations, it picks a number of random combinations specified by `n_iter`. However, the three models we'll test should not take very long in execution and therefore we most probably won't need `RandomizedSearchCV()`.\n",
    "\n",
    "## Performance Metric <a name=\"pm\"></a>\n",
    "\n",
    "For evaluating the performance of our models, we will use mean absolute error (MAE). If $\\hat{y}_i$ is the predicted value of the $i$-th element, and $y$ is the corresponding true value, then for all $n$ elements, RMSE is calculated as:\n",
    "\n",
    "\\begin{equation*}\n",
    "\\text{MAE}(y, \\hat{y}) = \\frac{1}{n} \\sum_{i=1}^{n} \\left| y_i - \\hat{y}_i \\right|\n",
    "\\end{equation*}\n",
    "\n",
    "However, we'll also check R Squared (coefficient of determination) regression score (r2_score), just out of curiosity. If SS<sub>res</sub> is the sum of squares of the residual errors and SS<sub>tot</sub> is the total sum of the errors, r2_score is calculated as:\n",
    "\\begin{equation*}\n",
    "R^2 = 1 - \\frac{SS_{res}}{SS_{tot}}\n",
    "\\end{equation*}\n",
    "\n"
   ]
  },
  {
   "cell_type": "markdown",
   "metadata": {
    "_uuid": "ee8b6c75b36e063154201717b5890ade5e5323b7"
   },
   "source": [
    "## Modeling <a name=\"m\"></a>\n",
    "\n",
    "### Ridge <a name=\"rr\"></a>\n",
    "\n",
    "For Ridge Regression, will use the implementation provided in the Scikit-Learn package of this algorithm. This model has the following syntax:\n",
    "\n",
    "```py\n",
    "Ridge(alpha=1.0, fit_intercept=True, normalize=False, copy_X=True, \n",
    "      max_iter=None, tol=0.001, solver=’auto’, random_state=None)\n",
    "```\n",
    "\n",
    "Firstly, we will use `GridSearchCV()` to search for the best model parameters in a parameter space provided by us. \n",
    "The parameter `alpha` represents the regularization strength, `fit_intercept` determines whether to calculate the intercept for this model, and `solver` controls which solver to use in the computational routines."
   ]
  },
  {
   "cell_type": "code",
   "execution_count": 56,
   "metadata": {
    "_uuid": "5083cb19ed132f9cb935892436083761c79b3561"
   },
   "outputs": [
    {
     "name": "stdout",
     "output_type": "stream",
     "text": [
      "Best parameters:\n",
      "{'alpha': 290, 'fit_intercept': True, 'solver': 'cholesky'}\n"
     ]
    }
   ],
   "source": [
    "parameter_space = {\n",
    "    \"alpha\": [1, 10, 100, 290, 500],\n",
    "    \"fit_intercept\": [True, False],\n",
    "    \"solver\": ['svd', 'cholesky', 'lsqr', 'sparse_cg', 'sag', 'saga'],\n",
    "}\n",
    "\n",
    "clf = GridSearchCV(Ridge(random_state=3), parameter_space, n_jobs=4,\n",
    "                   cv=3, scoring=\"neg_mean_absolute_error\")\n",
    "\n",
    "clf.fit(X_train, y_train)\n",
    "print(\"Best parameters:\")\n",
    "print(clf.best_params_)"
   ]
  },
  {
   "cell_type": "markdown",
   "metadata": {
    "_uuid": "dbc7aca13d770c94aa8c79149185fe56342448c7"
   },
   "source": [
    "We defined the parameter space above using reasonable values for chosen parameters. Then we used `GridSearchCV()` with 3 folds (`cv=3`). Now we build our Ridge model with the best parameters found:"
   ]
  },
  {
   "cell_type": "code",
   "execution_count": 57,
   "metadata": {
    "_uuid": "5731114f2e0d2f57765b1f5806e22427ff05e509"
   },
   "outputs": [],
   "source": [
    "ridge_model = Ridge(random_state=3, **clf.best_params_)"
   ]
  },
  {
   "cell_type": "markdown",
   "metadata": {
    "_uuid": "cc64f8375606e3c5eceeaeca773d37ab401c37f7"
   },
   "source": [
    "Then we train our model using our training set (`X_train` and `y_train`):"
   ]
  },
  {
   "cell_type": "code",
   "execution_count": 58,
   "metadata": {
    "_uuid": "429c4a22e366cd9508222678c8c3af95c4ab922c"
   },
   "outputs": [],
   "source": [
    "ridge_model.fit(X_train, y_train);"
   ]
  },
  {
   "cell_type": "markdown",
   "metadata": {
    "_uuid": "ec6c33e25d0901edbf7a408dc5cf9194b8f0ae41"
   },
   "source": [
    "Finally, we test our model on `X_test`. Then we evaluate the model performance by comparing its predictions with the actual true values in `y_test` using the MAE metric as we described above:"
   ]
  },
  {
   "cell_type": "code",
   "execution_count": 59,
   "metadata": {
    "_uuid": "ec753d55c0782bbdecf624f622e0d4e92c202f4d",
    "scrolled": true
   },
   "outputs": [
    {
     "name": "stdout",
     "output_type": "stream",
     "text": [
      "Ridge MAE = 15270.463549642722\n"
     ]
    }
   ],
   "source": [
    "y_pred = ridge_model.predict(X_test)\n",
    "ridge_mae = mean_absolute_error(y_test, y_pred)\n",
    "print(\"Ridge MAE =\", ridge_mae)"
   ]
  },
  {
   "cell_type": "code",
   "execution_count": 60,
   "metadata": {},
   "outputs": [
    {
     "name": "stdout",
     "output_type": "stream",
     "text": [
      "Ridge Regression r2_score = 0.9050769942406134\n"
     ]
    }
   ],
   "source": [
    "print(\"Ridge Regression r2_score =\", r2_score(y_test, y_pred))"
   ]
  },
  {
   "cell_type": "markdown",
   "metadata": {},
   "source": [
    "### Lasso <a name=\"lr\"></a>\n",
    "\n",
    "This model has the following syntax:\n",
    "\n",
    "```py\n",
    "Lasso(alpha=1.0, fit_intercept=True, normalize=False, precompute=False,\n",
    "           copy_X=True, max_iter=1000, tol=0.0001, warm_start=False,\n",
    "           positive=False, random_state=None, selection='cyclic')\n",
    "```\n",
    "\n",
    "Firstly, we will use `GridSearchCV()` to search for the best model parameters in a parameter space provided by us. The parameter `alpha` is a constant that multiplies the penalty terms, `fit_intercept` is the same as Ridge's."
   ]
  },
  {
   "cell_type": "code",
   "execution_count": 61,
   "metadata": {},
   "outputs": [
    {
     "name": "stdout",
     "output_type": "stream",
     "text": [
      "Best parameters:\n",
      "{'alpha': 290, 'fit_intercept': True}\n"
     ]
    }
   ],
   "source": [
    "parameter_space = {\n",
    "    \"alpha\": [1, 10, 100, 290, 500],\n",
    "    \"fit_intercept\": [True, False],\n",
    "}\n",
    "\n",
    "clf = GridSearchCV(Lasso(random_state=3), parameter_space, n_jobs=4,\n",
    "                   cv=3, scoring=\"neg_mean_absolute_error\")\n",
    "\n",
    "clf.fit(X_train, y_train)\n",
    "print(\"Best parameters:\")\n",
    "print(clf.best_params_)"
   ]
  },
  {
   "cell_type": "markdown",
   "metadata": {
    "_uuid": "dbc7aca13d770c94aa8c79149185fe56342448c7"
   },
   "source": [
    "We defined the parameter space above using reasonable values for chosen parameters. Then we used `GridSearchCV()` with 3 folds (`cv=3`). Now we build our Ridge model with the best parameters found:"
   ]
  },
  {
   "cell_type": "code",
   "execution_count": 62,
   "metadata": {
    "_uuid": "5731114f2e0d2f57765b1f5806e22427ff05e509"
   },
   "outputs": [],
   "source": [
    "lasso_model = Lasso(random_state=3, **clf.best_params_)"
   ]
  },
  {
   "cell_type": "markdown",
   "metadata": {
    "_uuid": "cc64f8375606e3c5eceeaeca773d37ab401c37f7"
   },
   "source": [
    "Then we train our model using our training set (`X_train` and `y_train`):"
   ]
  },
  {
   "cell_type": "code",
   "execution_count": 63,
   "metadata": {
    "_uuid": "429c4a22e366cd9508222678c8c3af95c4ab922c"
   },
   "outputs": [],
   "source": [
    "lasso_model.fit(X_train, y_train);"
   ]
  },
  {
   "cell_type": "markdown",
   "metadata": {
    "_uuid": "ec6c33e25d0901edbf7a408dc5cf9194b8f0ae41"
   },
   "source": [
    "Finally, we test our model on `X_test`. Then we evaluate the model performance by comparing its predictions with the actual true values in `y_test` using the MAE metric as we described above:"
   ]
  },
  {
   "cell_type": "code",
   "execution_count": 64,
   "metadata": {
    "_uuid": "ec753d55c0782bbdecf624f622e0d4e92c202f4d",
    "scrolled": true
   },
   "outputs": [
    {
     "name": "stdout",
     "output_type": "stream",
     "text": [
      "Lasso MAE = 14780.045781321518\n"
     ]
    }
   ],
   "source": [
    "y_pred = lasso_model.predict(X_test)\n",
    "lasso_mae = mean_absolute_error(y_test, y_pred)\n",
    "print(\"Lasso MAE =\", lasso_mae)"
   ]
  },
  {
   "cell_type": "code",
   "execution_count": 65,
   "metadata": {},
   "outputs": [
    {
     "name": "stdout",
     "output_type": "stream",
     "text": [
      "Lasso Regression r2_score = 0.910009827899232\n"
     ]
    }
   ],
   "source": [
    "print(\"Lasso Regression r2_score =\", r2_score(y_test, y_pred))"
   ]
  },
  {
   "cell_type": "markdown",
   "metadata": {
    "_uuid": "0d0722513ba9d6476291f18a1db1f140581acf91"
   },
   "source": [
    "### Elastic Net <a name=\"en\"></a>\n",
    "\n",
    "This model has the following syntax:\n",
    "\n",
    "```py\n",
    "ElasticNet(alpha=1.0, l1_ratio=0.5, fit_intercept=True, normalize=False, \n",
    "           precompute=False, max_iter=1000, copy_X=True, tol=0.0001, \n",
    "           warm_start=False, positive=False, random_state=None, selection=’cyclic’)\n",
    "```\n",
    "\n",
    "Firstly, we will use `GridSearchCV()` to search for the best model parameters in a parameter space provided by us. The parameter `alpha` is a constant that multiplies the penalty terms, `l1_ratio` determines the amount of L1 and L2 regularizations, `fit_intercept` is the same as Ridge's."
   ]
  },
  {
   "cell_type": "code",
   "execution_count": 66,
   "metadata": {
    "_uuid": "169fc24fd1b1369d7ad49ac312243710a27849ff"
   },
   "outputs": [
    {
     "name": "stdout",
     "output_type": "stream",
     "text": [
      "Best parameters:\n",
      "{'alpha': 280, 'fit_intercept': True, 'l1_ratio': 1}\n"
     ]
    }
   ],
   "source": [
    "parameter_space = {\n",
    "    \"alpha\": [1, 10, 100, 280, 500],\n",
    "    \"l1_ratio\": [0.5, 1],\n",
    "    \"fit_intercept\": [True, False],\n",
    "}\n",
    "\n",
    "clf = GridSearchCV(ElasticNet(random_state=3), parameter_space, \n",
    "                   n_jobs=4, cv=3, scoring=\"neg_mean_absolute_error\")\n",
    "\n",
    "clf.fit(X_train, y_train)\n",
    "print(\"Best parameters:\")\n",
    "print(clf.best_params_)"
   ]
  },
  {
   "cell_type": "markdown",
   "metadata": {
    "_uuid": "7448ecd3e1d04304afbe8d5be038826095df03ff"
   },
   "source": [
    "We defined the parameter space above using reasonable values for chosen parameters. Then we used `GridSearchCV()` with 3 folds (`cv=3`). Now we build our Ridge model with the best parameters found:"
   ]
  },
  {
   "cell_type": "code",
   "execution_count": 67,
   "metadata": {
    "_uuid": "b54a8fd4f1475aec665c7043dc020c3d5b6f104f"
   },
   "outputs": [],
   "source": [
    "elasticNet_model = ElasticNet(random_state=3, **clf.best_params_)"
   ]
  },
  {
   "cell_type": "markdown",
   "metadata": {
    "_uuid": "6ad220daf8aa2ce220612a178cc0fa54f3a4379b"
   },
   "source": [
    "Then we train our model using our training set (`X_train` and `y_train`):"
   ]
  },
  {
   "cell_type": "code",
   "execution_count": 68,
   "metadata": {
    "_uuid": "212c028929a900f34c0654dc4ea4942ab1159b7f"
   },
   "outputs": [],
   "source": [
    "elasticNet_model.fit(X_train, y_train);"
   ]
  },
  {
   "cell_type": "markdown",
   "metadata": {
    "_uuid": "cbfdcc6bb28820f61bff12239933831eca40cd9b"
   },
   "source": [
    "Finally, we test our model on `X_test`. Then we evaluate the model performance by comparing its predictions with the actual true values in `y_test` using the MAE metric as we described above:"
   ]
  },
  {
   "cell_type": "code",
   "execution_count": 69,
   "metadata": {
    "_uuid": "04d4c4bd99fe62000a8b4b4569c7717559dd7c40"
   },
   "outputs": [
    {
     "name": "stdout",
     "output_type": "stream",
     "text": [
      "Elastic Net MAE = 14767.90981933659\n"
     ]
    }
   ],
   "source": [
    "y_pred = elasticNet_model.predict(X_test)\n",
    "elasticNet_mae = mean_absolute_error(y_test, y_pred)\n",
    "print(\"Elastic Net MAE =\", elasticNet_mae)"
   ]
  },
  {
   "cell_type": "code",
   "execution_count": 70,
   "metadata": {},
   "outputs": [
    {
     "name": "stdout",
     "output_type": "stream",
     "text": [
      "Elastic Net r2_score = 0.910005590776483\n"
     ]
    }
   ],
   "source": [
    "print(\"Elastic Net r2_score =\", r2_score(y_test, y_pred))"
   ]
  },
  {
   "cell_type": "markdown",
   "metadata": {
    "_uuid": "0379c8c447a56d9c6ed528089f1d028ee791b4e9"
   },
   "source": [
    "## Analysis and Comparison <a name=\"ac\"></a>\n",
    "\n",
    "In the previous section, we created three models: for each model we searched for good parameters, constructed the model using those parameters, trained (fitted) the model to our training data (`X_train` and `y_train`), then tested the model on our test data (`X_test`) and finally, we evaluated the model performance by comparing the model predictions with the true values in `y_test`. We used the mean absolute error (MAE) to evaluate model performance and also checked r2_score of each model just out of curiosity. \n",
    "\n",
    "Using the results we got in the previous section, we present a table that shows the mean absolute error (MAE) and r2_score for each model when applied to the test set `X_test`. The table is sorted ascendingly according to MAE score.\n",
    "\n",
    "|Model                            |MAE      |r2_score|\n",
    "|---------------------------------|---------|--------|\n",
    "|Elastic Net                      |14767.91 |0.910005|\n",
    "|Lasso                            |14780.04 |0.910009|\n",
    "|Ridge                            |15270.46 |0.905076|\n",
    "\n",
    "We also present a graph that visualizes the table contents:"
   ]
  },
  {
   "cell_type": "code",
   "execution_count": 71,
   "metadata": {},
   "outputs": [
    {
     "data": {
      "text/plain": [
       "Text(0.5, 1.0, 'r2_score (Higher is better.)')"
      ]
     },
     "execution_count": 71,
     "metadata": {},
     "output_type": "execute_result"
    },
    {
     "data": {
      "image/png": "[encoded data removed]",
      "text/plain": [
       "<Figure size 720x360 with 2 Axes>"
      ]
     },
     "metadata": {
      "needs_background": "light"
     },
     "output_type": "display_data"
    }
   ],
   "source": [
    "colors = [\"#392834\", \"#5a3244\", \"#7e3c4d\"]\n",
    "model = ['Ridge', 'Lasso', 'Elastic Net']\n",
    "mae = [15270.46, 14780.04, 14767.91]\n",
    "r2 = [0.905076, 0.910009, 0.910005]\n",
    "fig, axs = plt.subplots(1, 2, figsize=(10, 5), sharey=False)\n",
    "axs[0].bar(model, mae, color=colors)\n",
    "axs[0].set_ylim(min(mae)-100, max(mae)+100)\n",
    "axs[0].set_title('MAE (Lower is better.)')\n",
    "axs[1].bar(model, r2, color=colors)\n",
    "axs[1].set_ylim(min(r2)-.001, max(r2)+.001)\n",
    "axs[1].set_title('r2_score (Higher is better.)')"
   ]
  },
  {
   "cell_type": "markdown",
   "metadata": {
    "_uuid": "c2b6b0e4664a9c9ab7731254b2b4fd2dfe919b56"
   },
   "source": [
    "By looking at the table and the graphs, we can see that Elastic Net model has the smallest MAE, `14767.91` followed by Lasso Regression model with a little larger error of `14780.04`. After that, Ridge comes with `15656.38`. We see similar trend with r2_score where higher score is better.\n",
    "\n",
    "So, in our experiment, the best model is Elastic Net and the worst model is Ridge Regression. We can see that the difference in MAE between the best model and the worst model is significant.\n",
    "\n",
    "## Performance Interpretation <a name=\"pi\"></a>\n",
    "\n",
    "We chose the mean absolute error (MAE) as our performance metric to evaluate and compare models and r2_score just out of curiousity. MAE presents a value that is easy to understand; it shows the average value of model error. For example, for our Elastic Net model, its MAE is `14767.91` which means that on average, Elastic Net will predict a value that is bigger or smaller than the true value by `14767.91`. Now to understand how good this MAE is, we need to know the range and distribution of the data. In our case, we need to see the values of the target variable `SalePrice` which contains the actual house prices. Let's see the violin plot, box plot, and histogram of `SalePrice` in our dataset:"
   ]
  },
  {
   "cell_type": "code",
   "execution_count": 72,
   "metadata": {
    "_uuid": "cc67011176f42f58083b94d8e9a890972586be5b"
   },
   "outputs": [
    {
     "data": {
      "image/png": "[encoded data removed]",
      "text/plain": [
       "<Figure size 432x288 with 1 Axes>"
      ]
     },
     "metadata": {
      "needs_background": "light"
     },
     "output_type": "display_data"
    }
   ],
   "source": [
    "sns.violinplot(x=dataset['SalePrice'], inner=\"quartile\", color=\"#36B37E\");"
   ]
  },
  {
   "cell_type": "code",
   "execution_count": 73,
   "metadata": {
    "_uuid": "f364129134fd172965780a41082c1fe83c8d4370"
   },
   "outputs": [
    {
     "data": {
      "image/png": "[encoded data removed]",
      "text/plain": [
       "<Figure size 432x288 with 1 Axes>"
      ]
     },
     "metadata": {
      "needs_background": "light"
     },
     "output_type": "display_data"
    }
   ],
   "source": [
    "sns.boxplot(dataset['SalePrice'], whis=10, color=\"#00B8D9\");"
   ]
  },
  {
   "cell_type": "code",
   "execution_count": 74,
   "metadata": {
    "_uuid": "bc10506b1f1eba052e8e58905f98f3a14211e532"
   },
   "outputs": [
    {
     "data": {
      "image/png": "[encoded data removed]",
      "text/plain": [
       "<Figure size 432x288 with 1 Axes>"
      ]
     },
     "metadata": {
      "needs_background": "light"
     },
     "output_type": "display_data"
    }
   ],
   "source": [
    "sns.distplot(dataset['SalePrice'], kde=False,\n",
    "             color=\"#172B4D\", hist_kws={\"alpha\": 0.8});"
   ]
  },
  {
   "cell_type": "markdown",
   "metadata": {
    "_uuid": "6dbf43903e2808a68d80f3f6163c71858cbc3d4e"
   },
   "source": [
    "From the three plots above, we can understand the distribution of `SalePrice`. Now let's get some numerical statistical information about it:"
   ]
  },
  {
   "cell_type": "code",
   "execution_count": 75,
   "metadata": {
    "_uuid": "0a8029b0d98e74714e311175103e0bb1efe80502",
    "scrolled": true,
    "tags": [
     "hideOutput"
    ]
   },
   "outputs": [
    {
     "data": {
      "text/html": [
       "<div>\n",
       "<style scoped>\n",
       "    .dataframe tbody tr th:only-of-type {\n",
       "        vertical-align: middle;\n",
       "    }\n",
       "\n",
       "    .dataframe tbody tr th {\n",
       "        vertical-align: top;\n",
       "    }\n",
       "\n",
       "    .dataframe thead th {\n",
       "        text-align: right;\n",
       "    }\n",
       "</style>\n",
       "<table border=\"1\" class=\"dataframe\">\n",
       "  <thead>\n",
       "    <tr style=\"text-align: right;\">\n",
       "      <th></th>\n",
       "      <th>count</th>\n",
       "      <th>mean</th>\n",
       "      <th>std</th>\n",
       "      <th>min</th>\n",
       "      <th>25%</th>\n",
       "      <th>50%</th>\n",
       "      <th>75%</th>\n",
       "      <th>max</th>\n",
       "    </tr>\n",
       "  </thead>\n",
       "  <tbody>\n",
       "    <tr>\n",
       "      <th>SalePrice</th>\n",
       "      <td>2193.00</td>\n",
       "      <td>179846.69</td>\n",
       "      <td>79729.38</td>\n",
       "      <td>12789.00</td>\n",
       "      <td>128500.00</td>\n",
       "      <td>159895.00</td>\n",
       "      <td>214000.00</td>\n",
       "      <td>625000.00</td>\n",
       "    </tr>\n",
       "  </tbody>\n",
       "</table>\n",
       "</div>"
      ],
      "text/plain": [
       "                         count                 mean                  std  \\\n",
       "SalePrice              2193.00            179846.69             79729.38   \n",
       "\n",
       "                           min                  25%                  50%  \\\n",
       "SalePrice             12789.00            128500.00            159895.00   \n",
       "\n",
       "                           75%                  max  \n",
       "SalePrice            214000.00            625000.00  "
      ]
     },
     "execution_count": 75,
     "metadata": {},
     "output_type": "execute_result"
    }
   ],
   "source": [
    "y_train.describe(include=[np.number]).transpose()"
   ]
  },
  {
   "cell_type": "markdown",
   "metadata": {
    "_uuid": "1d8dd98c61aadbc1429df6a736ac7514da350448"
   },
   "source": [
    "We can see that the mean is `179,846.69` and the median is `159,895`. We can see also that the first quartile is `128,500`; this means that 75% of the data is larger than this number. Now looking at Elastic Net error of `14,767.91`, we can say that an error of about `14,000` is good for data whose mean is `159,895` and whose 75% of it is larger than `128,500`."
   ]
  },
  {
   "cell_type": "markdown",
   "metadata": {
    "_uuid": "c3d7281ca7f0653ff52d7b523e3f3e7627f41d9a"
   },
   "source": [
    "## Feature Importances <a name=\"fi\"></a>\n",
    "\n",
    "Although none of the models we used provide the ability to see the importance of each feature in the dataset after fitting the model, I've tried to extract those feature importances using the code below. We will look at the feature importances provided by all the three models that we've used. We have 242 features in our data which is a big number, so we will take a look at the 30 most important features.\n",
    "\n",
    "### Ridge\n",
    "\n",
    "Let's discover the most important features as determined by Ridge Regression model:"
   ]
  },
  {
   "cell_type": "code",
   "execution_count": 76,
   "metadata": {},
   "outputs": [
    {
     "name": "stdout",
     "output_type": "stream",
     "text": [
      "239 features, reduction of 1.24%\n"
     ]
    },
    {
     "data": {
      "text/plain": [
       "<matplotlib.axes._subplots.AxesSubplot at 0x1df100227b8>"
      ]
     },
     "execution_count": 76,
     "metadata": {},
     "output_type": "execute_result"
    },
    {
     "data": {
      "image/png": "[encoded data removed]",
      "text/plain": [
       "<Figure size 720x360 with 1 Axes>"
      ]
     },
     "metadata": {
      "needs_background": "light"
     },
     "output_type": "display_data"
    }
   ],
   "source": [
    "feature_importance = pd.Series(index = X_train.columns, data = np.abs(ridge_model.coef_[0]))\n",
    "\n",
    "n_selected_features = (feature_importance>0).sum()\n",
    "print('{0:d} features, reduction of {1:2.2f}%'.format(\n",
    "    n_selected_features,(1-n_selected_features/len(feature_importance))*100))\n",
    "\n",
    "feature_importance.sort_values().tail(30).plot(kind = 'bar', figsize = (10, 5), color = 'darkslategrey')"
   ]
  },
  {
   "cell_type": "markdown",
   "metadata": {},
   "source": [
    "### Lasso\n",
    "\n",
    "Now let's find the most important features as determined by our Lasso Regression model:"
   ]
  },
  {
   "cell_type": "code",
   "execution_count": 77,
   "metadata": {},
   "outputs": [
    {
     "name": "stdout",
     "output_type": "stream",
     "text": [
      "239 features, reduction of 1.24%\n"
     ]
    },
    {
     "data": {
      "text/plain": [
       "<matplotlib.axes._subplots.AxesSubplot at 0x1df11befb00>"
      ]
     },
     "execution_count": 77,
     "metadata": {},
     "output_type": "execute_result"
    },
    {
     "data": {
      "image/png": "[encoded data removed]",
      "text/plain": [
       "<Figure size 720x360 with 1 Axes>"
      ]
     },
     "metadata": {
      "needs_background": "light"
     },
     "output_type": "display_data"
    }
   ],
   "source": [
    "lasso_feature_importance = pd.Series(index = X_train.columns, data = np.abs(lasso_model.coef_))\n",
    "\n",
    "n_selected_features = (feature_importance>0).sum()\n",
    "print('{0:d} features, reduction of {1:2.2f}%'.format(\n",
    "    n_selected_features,(1-n_selected_features/len(feature_importance))*100))\n",
    "\n",
    "lasso_feature_importance.sort_values().tail(30).plot(kind = 'bar', figsize = (10, 5), color = 'cyan')"
   ]
  },
  {
   "cell_type": "markdown",
   "metadata": {},
   "source": [
    "### Elastic Net\n",
    "\n",
    "And finally, let's see the most important features as determined by our Elastic Net model:"
   ]
  },
  {
   "cell_type": "code",
   "execution_count": 78,
   "metadata": {},
   "outputs": [
    {
     "name": "stdout",
     "output_type": "stream",
     "text": [
      "239 features, reduction of 1.24%\n"
     ]
    },
    {
     "data": {
      "text/plain": [
       "<matplotlib.axes._subplots.AxesSubplot at 0x1df11cdd128>"
      ]
     },
     "execution_count": 78,
     "metadata": {},
     "output_type": "execute_result"
    },
    {
     "data": {
      "image/png": "[encoded data removed]",
      "text/plain": [
       "<Figure size 720x360 with 1 Axes>"
      ]
     },
     "metadata": {
      "needs_background": "light"
     },
     "output_type": "display_data"
    }
   ],
   "source": [
    "elastic_feature_importance = pd.Series(index = X_train.columns, data = np.abs(elasticNet_model.coef_))\n",
    "\n",
    "n_selected_features = (feature_importance>0).sum()\n",
    "print('{0:d} features, reduction of {1:2.2f}%'.format(\n",
    "    n_selected_features,(1-n_selected_features/len(feature_importance))*100))\n",
    "\n",
    "elastic_feature_importance.sort_values().tail(30).plot(kind = 'bar', figsize = (10, 5), color = 'darkorange')"
   ]
  },
  {
   "cell_type": "markdown",
   "metadata": {
    "_uuid": "1e79c3fb04e89f3e6ac37efed050e7c9b27a1c21"
   },
   "source": [
    "### Common Important Features\n",
    "\n",
    "Now, let us see which features are among the most important features for both Elastic Net and Lasso, and let's find out the difference in their importance regarding the two models:"
   ]
  },
  {
   "cell_type": "code",
   "execution_count": 79,
   "metadata": {
    "_uuid": "5d35926281ee98401dadd1b6aaadb9c71f5965c8"
   },
   "outputs": [
    {
     "data": {
      "image/png": "[encoded data removed]",
      "text/plain": [
       "<Figure size 1080x360 with 1 Axes>"
      ]
     },
     "metadata": {
      "needs_background": "light"
     },
     "output_type": "display_data"
    }
   ],
   "source": [
    "common_imp_feat = [x for x in elastic_feature_importance.sort_values().tail(30).index \n",
    "                   if x in lasso_feature_importance.sort_values().tail(30).index]\n",
    "commImpFeat_elastic_scores = [elastic_feature_importance.sort_values().tail(30)[x]\n",
    "                         for x in common_imp_feat]\n",
    "commImpFeat_lasso_scores = [lasso_feature_importance.sort_values().tail(30)[x]\n",
    "                         for x in common_imp_feat]\n",
    "\n",
    "ind = np.arange(len(commImpFeat_elastic_scores))\n",
    "width = 0.35\n",
    "\n",
    "fig, ax = plt.subplots(figsize=(15, 5))\n",
    "ax.bar(ind - width/2, commImpFeat_elastic_scores, width, color='darkorange', label='Elastic Net');\n",
    "ax.bar(ind + width/2, commImpFeat_lasso_scores, width, color='cyan', label='Lasso')\n",
    "ax.set_xticks(ind);\n",
    "ax.set_xticklabels(common_imp_feat);\n",
    "ax.legend();\n",
    "plt.xticks(rotation=90);"
   ]
  },
  {
   "cell_type": "markdown",
   "metadata": {},
   "source": [
    "# Key Findings <a name=\"kf\"></a>\n",
    "<hr>\n",
    "\n",
    "We observe that Overall quality of material and finish of the house (`Overall Qual`) matter less in price prediction compared to living area above-ground in square feet (`GrLivArea`). We see that Lasso and Elastic Net perform way better than Ridge on our data. It is interesting to see that the difference in Mean Absolute Error of Lasso and Elastic Net is significant, while the difference in their coefficient of determination regression score (r2_score) is negligible. It is clear that Elastic Net performs best among the three models that we tried in this project."
   ]
  },
  {
   "cell_type": "markdown",
   "metadata": {
    "_uuid": "5745a02dd8fbb42809b785369ec766bc2599e4c6"
   },
   "source": [
    "# Conclusion <a name=\"c\"></a>\n",
    "<hr>\n",
    "\n",
    "In this project, we built several regression models to predict the price of some house given some of the house features. We evaluated and compared each model to determine the one with highest performance. We also looked at how these models rank the features according to their importance. We followed the data science process starting with getting, cleaning and preprocessing the data, followed by exploring the data and building models, then evaluating the results and communicating them with visualizations.\n",
    "\n",
    "As a recommendation, we advise to use this model (or a version of it trained with more recent data) by people who want to buy a house in the area covered by the dataset to have an idea about the actual price. The model can be used also with datasets that cover different cities and areas provided that they contain the same features. We also suggest that people take into consideration the features that were deemed as most important as seen in the previous section; this might help them estimate the house price better.\n",
    "\n",
    "Since, the scope of this project is limited to supervised machine learning regression techniques, the methodology is inherently flawed in the sense that more advanced machine learning techniques could not be used for better accuracy in prediction. However, I’ve tried my best on interpretation of all three models using feature importance. I would be revisiting this project again with more advanced machine learning techniques like Neural Networks and Gradient Boosting, focusing more on prediction while doing my best regarding interpretation."
   ]
  }
 ],
 "metadata": {
  "kernelspec": {
   "display_name": "Python 3",
   "language": "python",
   "name": "python3"
  },
  "language_info": {
   "codemirror_mode": {
    "name": "ipython",
    "version": 3
   },
   "file_extension": ".py",
   "mimetype": "text/x-python",
   "name": "python",
   "nbconvert_exporter": "python",
   "pygments_lexer": "ipython3",
   "version": "3.7.1"
  }
 },
 "nbformat": 4,
 "nbformat_minor": 4
}
